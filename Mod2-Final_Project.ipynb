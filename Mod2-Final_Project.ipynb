{
  "cells": [
    {
      "cell_type": "markdown",
      "metadata": {
        "id": "euI8mzIHv24T"
      },
      "source": [
        "#***Proyecto Módulo 2: Clasificación de proyectos financiados a través de crowdfunding***"
      ]
    },
    {
      "cell_type": "markdown",
      "metadata": {
        "id": "E6zqJFDfwKGa"
      },
      "source": [
        "**<h3>Integrantes:</h3>**\n",
        "\n",
        "\n",
        "\n",
        "*   Edwar Fabián Panqueba Moreno\n",
        "*   Santiago Ruiz Rozo\n",
        "\n",
        "\n",
        "\n"
      ]
    },
    {
      "cell_type": "markdown",
      "metadata": {
        "id": "0aUC9lq2b6uV"
      },
      "source": [
        "# **0. Cargue de las librerias que se usarán en el proyecto**\n"
      ]
    },
    {
      "cell_type": "code",
      "execution_count": null,
      "metadata": {
        "id": "hQwXGZb9IWzT"
      },
      "outputs": [],
      "source": [
        "# Importación de librerias\n",
        "import numpy as np\n",
        "import pandas as pd\n",
        "import matplotlib as mpl\n",
        "import seaborn as sns\n",
        "from matplotlib import pyplot as plt\n",
        "import gdown\n",
        "\n",
        "# Omitir advertencias\n",
        "import warnings\n",
        "warnings.simplefilter(action = 'ignore')\n",
        "\n",
        "# Visualizar correctamente las gráficas en el notebook\n",
        "%matplotlib inline\n",
        "\n",
        "# Importación de la librería para el trabajo con machine learning\n",
        "import sklearn"
      ]
    },
    {
      "cell_type": "markdown",
      "metadata": {
        "id": "8goUhuCBcwSf"
      },
      "source": [
        "# **1. Descripción de los datos**\n",
        "---"
      ]
    },
    {
      "cell_type": "markdown",
      "metadata": {
        "id": "HTt7mc-pjCMH"
      },
      "source": [
        "El crowdfunding, o micromecenazgo, es una estrategia que consiste en obtener fondos en línea para financiar un proyecto a través de la aportación de un elevado número de inversores. La ventaja de este método, en comparación con otros mecanismos de financiamiento, es que permite reunir muchos recursos sin poner en riesgo una suma importante de dinero por inversor. Muchas personas en el mundo con ideas innovadoras y creativas de negocio, pero que no cuentan con los recursos económicos para iniciarlos, recurren cada vez más a este tipo de estrategias. ***Kickstarter*** es una popular plataforma de financiación a través del crowdfunding que ha ayudado a miles de emprendedores y creadores a dar vida a sus ideas innovadoras. Sin embargo, no todos los proyectos de *Kickstarter* tienen éxito, y comprender los factores que contribuyen al éxito o al fracaso puede ser valioso tanto para los creadores como para los inversores. El dataset con el que se trabajará en este proyecto, contiene información de 374853 proyectos que han sido promovidos a través de la plataforma Kickstarter, y el propósito será estudiar las características contenidas en las columnas que componen el dataset, con el apoyo de algún método de apredizaje de máquina, de tal manera que sea posible clasificar correctamente un nuevo proyecto como exito o fracaso.\n",
        "\n",
        "El dataset contiene 7 columnas con variables categóricas, incluyendo la variable objetivo, y 4 variables numéricas, incluyendo la variable del ID, las cuales se describen a continuación.\n",
        "\n",
        "\n",
        "| Variable | Definición\t| \n",
        "| --- | --- |\n",
        "| ID | Identificador único para cada proyecto |\n",
        "| Name | Nombre del proyecto |\n",
        "| Category | Categoría principal del proyecto (ej. tecnología, arte, música, etc.) |\n",
        "| Subcategory | Subcategoría del proyecto (ej. apps móviles, pintura, música rock, etc.) |\n",
        "| Country | País donde se origina el proyecto |\n",
        "| Launched | Fecha de lanzamiento del proyecto |\n",
        "| Deadline | Fecha límite para el crowdfunding |\n",
        "| Goal | Cantidad de dinero que el creador necesita para iniciar su proyecto (en USD) |\n",
        "| Pledged | Cantidad de dinero prometida por los inversionista en la plataforma |\n",
        "| Backers | Número de patrocinadores del proyecto |\n",
        "| State | Estado actual del proyecto | \n",
        "\n",
        "\n"
      ]
    },
    {
      "cell_type": "markdown",
      "metadata": {
        "id": "tvXur5cFbDJg"
      },
      "source": [
        "# **2. Carga de datos**\n",
        "---"
      ]
    },
    {
      "cell_type": "code",
      "execution_count": null,
      "metadata": {
        "colab": {
          "base_uri": "https://localhost:8080/"
        },
        "id": "_OXCF-E7JeS3",
        "outputId": "81b55f2f-2f19-4c09-adef-b98a8d4ad49a"
      },
      "outputs": [
        {
          "name": "stdout",
          "output_type": "stream",
          "text": [
            "/usr/local/lib/python3.10/dist-packages/gdown/cli.py:121: FutureWarning: Option `--id` was deprecated in version 4.3.1 and will be removed in 5.0. You don't need to pass it anymore to use a file ID.\n",
            "  warnings.warn(\n",
            "Downloading...\n",
            "From: https://drive.google.com/uc?id=1-iBRQO1FifJAY4G9WrSHK1SVL0oP4Ork\n",
            "To: /content/kickstarter_projects.csv\n",
            "100% 49.2M/49.2M [00:00<00:00, 135MB/s]\n"
          ]
        }
      ],
      "source": [
        "# Identificación del archivo CSV en Drive para su descarga\n",
        "!gdown --id 1-iBRQO1FifJAY4G9WrSHK1SVL0oP4Ork\n",
        "\n",
        "# Asignación a un objeto tipo dataframe del archivo CSV\n",
        "project_df = pd.read_csv('kickstarter_projects.csv')"
      ]
    },
    {
      "cell_type": "markdown",
      "metadata": {
        "id": "R7OEtU8R5v_v"
      },
      "source": [
        "## **2.1 Limpieza de los datos**\n",
        "\n",
        "Una vez cargado el dataset en su correspondiente dataframe, la opción **`.info`** de Pandas para conocer la cantidad y el tipo de datos contenidos en cada una de las respectivas columnas."
      ]
    },
    {
      "cell_type": "code",
      "execution_count": null,
      "metadata": {
        "colab": {
          "base_uri": "https://localhost:8080/"
        },
        "id": "R77AkSNHL8m4",
        "outputId": "6838774a-c6b4-4372-f538-f494c3e3bd05"
      },
      "outputs": [
        {
          "name": "stdout",
          "output_type": "stream",
          "text": [
            "<class 'pandas.core.frame.DataFrame'>\n",
            "RangeIndex: 374853 entries, 0 to 374852\n",
            "Data columns (total 11 columns):\n",
            " #   Column       Non-Null Count   Dtype \n",
            "---  ------       --------------   ----- \n",
            " 0   ID           374853 non-null  int64 \n",
            " 1   Name         374853 non-null  object\n",
            " 2   Category     374853 non-null  object\n",
            " 3   Subcategory  374853 non-null  object\n",
            " 4   Country      374853 non-null  object\n",
            " 5   Launched     374853 non-null  object\n",
            " 6   Deadline     374853 non-null  object\n",
            " 7   Goal         374853 non-null  int64 \n",
            " 8   Pledged      374853 non-null  int64 \n",
            " 9   Backers      374853 non-null  int64 \n",
            " 10  State        374853 non-null  object\n",
            "dtypes: int64(4), object(7)\n",
            "memory usage: 31.5+ MB\n"
          ]
        }
      ],
      "source": [
        "project_df.info()"
      ]
    },
    {
      "cell_type": "markdown",
      "metadata": {
        "id": "zJt-mghZMcPk"
      },
      "source": [
        "En este proyecto, la columna State corresponde a la variable de clasificación, y el problema a estudiar, inicialmente, se considera como un problema de clasificación binaria debido a que a partir de los datos correspondientes a cada una de las características del negocio, se desea clasificar como un proyecto exitoso o fracasado. Por lo tanto, es necesario comprobar que la columna correspondiente a la variable de clasificación contenga solo dos posibles etiquetas. "
      ]
    },
    {
      "cell_type": "code",
      "execution_count": null,
      "metadata": {
        "colab": {
          "base_uri": "https://localhost:8080/"
        },
        "id": "gguRjqU5NZmL",
        "outputId": "ccd824f1-c0b3-4801-cac6-cee3dfb08ee4"
      },
      "outputs": [
        {
          "data": {
            "text/plain": [
              "array(['Failed', 'Successful', 'Canceled', 'Suspended', 'Live'],\n",
              "      dtype=object)"
            ]
          },
          "execution_count": 40,
          "metadata": {},
          "output_type": "execute_result"
        }
      ],
      "source": [
        "project_df['State'].unique()"
      ]
    },
    {
      "cell_type": "markdown",
      "metadata": {
        "id": "MXUzXWqlNffY"
      },
      "source": [
        "Las etiquetas ***Failed*** y ***Successful*** son las que se emplearán para clasificar los proyectos de la plataforma Kickstarter, con los diferentes métodos de aprendizaje máquina que se pretenden aplicar. Las etiquetas ***Canceled*** y ***Suspended*** son asignadas a proyectos que se propusieron pero lograron ser ejecutados, y aquellos que iniciaron, pero por alguna razón tuvieron que ser suspendidos y no lograron ser finalizados. La etiqueta ***Live***, corresponde a proyectos que fueron exitosos y aún se mantienen vigentes, luego podrían ser clasificados como ***Successful***, y las filas que se correspondan con etiquetas ***Canceled*** y ***Suspended*** serán eliminadas, que no aportan información útil para el entrenamiento y prueba del modelo."
      ]
    },
    {
      "cell_type": "code",
      "execution_count": null,
      "metadata": {
        "id": "bTr4At0TOWnw"
      },
      "outputs": [],
      "source": [
        "# Se eliminan las filas que correspondan a etiquetas Canceled y Suspended\n",
        "project_df.drop(project_df[(project_df['State'] == 'Canceled') | (project_df['State'] == 'Suspended')].index, inplace=True)\n",
        "\n",
        "# Las filas en cuya columna State se encuentre la etiqueta Live, es cambiada por la etiqueta Successful\n",
        "project_df['State'] = project_df['State'].apply(lambda x: 'Successful' if x == 'Live' else x)"
      ]
    },
    {
      "cell_type": "markdown",
      "metadata": {
        "id": "7-NidNciRAqd"
      },
      "source": [
        "Ahora, las columnas ID, Name, Lauched y Deadline serán eliminadas, ya que no aportan información relevante que sea requerida para la tarea de clasificación que deben realizar los métodos de aprendizaje de máquina que se emplearán en este proyecto."
      ]
    },
    {
      "cell_type": "code",
      "execution_count": null,
      "metadata": {
        "id": "yQetizTfR7dk"
      },
      "outputs": [],
      "source": [
        "# Se emplea el método drop para la eliminación de las columnas\n",
        "project_df.drop(['ID','Name', 'Launched', 'Deadline'], axis = 1, inplace = True)"
      ]
    },
    {
      "cell_type": "markdown",
      "metadata": {
        "id": "wMorbvGWSTUB"
      },
      "source": [
        "Posteriormente, se deben determinar la cantidad de datos diferentes contenidos en las columnas Country, Category y Subcategory, dado que al ser variables categóricas, se requerirá emplear algún método de preprocesarmiento para que el método de aprendizaje pueda trabajar con ellas, sin embargo, esto podría hacer que la dimensión del conjunto de datos aumentara considerablemente, lo que podría representar un problema para la tarea de clasificación. Se dejarán dentro del dataframe aquellas columnas que no posean muchos datos diferentes y se puedan considerar que podrían aportar información importante para la clasificación de los diferentes ejemplos."
      ]
    },
    {
      "cell_type": "code",
      "execution_count": null,
      "metadata": {
        "colab": {
          "base_uri": "https://localhost:8080/"
        },
        "id": "DaPl13IPTYge",
        "outputId": "6a34719c-868c-4fe1-a8f8-3b02e0490825"
      },
      "outputs": [
        {
          "name": "stdout",
          "output_type": "stream",
          "text": [
            "Cantidad de datos distintos en la variable Country: 22\n",
            "Cantidad de datos distintos en la variable Category: 15\n",
            "Cantidad de datos distintos en la variable Country: 159\n"
          ]
        }
      ],
      "source": [
        "numb_country = project_df['Country'].nunique()\n",
        "numb_category = project_df['Category'].nunique()\n",
        "numb_subcategory = project_df['Subcategory'].nunique()\n",
        "print(f'Cantidad de datos distintos en la variable Country: {numb_country}')\n",
        "print(f'Cantidad de datos distintos en la variable Category: {numb_category}')\n",
        "print(f'Cantidad de datos distintos en la variable Country: {numb_subcategory}')"
      ]
    },
    {
      "cell_type": "markdown",
      "metadata": {
        "id": "_pU91XuTUABB"
      },
      "source": [
        "La variable Subcategory cotiene 159 datos diferentes como se puede apreciar, y considerarla dentro del conjunto de datos a estudiar haría que su dimensión aumentara mucho al momento de hacer el preprocesamiento de esta variable, además, la variable Category contiene información semejante que podría resumir la variable Subcategory, considerando que son más pocos datos distintos los que contiene. Por lo tanto, se opta por mantener las variables Country y Category al poseer un menor número de datos distintos, y se elimina la variable Subcategory."
      ]
    },
    {
      "cell_type": "code",
      "execution_count": null,
      "metadata": {
        "id": "sbvtoHktU858"
      },
      "outputs": [],
      "source": [
        "project_df.drop(['Subcategory'], axis = 1, inplace = True)"
      ]
    },
    {
      "cell_type": "markdown",
      "metadata": {
        "id": "Mdr0Ey94VLJg"
      },
      "source": [
        "Finalmente, se comprueba si hay presencia de datos nulos que puedan afectar el rendimiento de los métodos de aprendizaje, ya que sería necesario completarlos de alguna forma, o eliminar las respectivas filas."
      ]
    },
    {
      "cell_type": "code",
      "execution_count": null,
      "metadata": {
        "colab": {
          "base_uri": "https://localhost:8080/"
        },
        "id": "uBpkW8ugWs-d",
        "outputId": "3c65d8a3-01b5-4a97-f35b-22366e29389d"
      },
      "outputs": [
        {
          "data": {
            "text/plain": [
              "Category    0\n",
              "Country     0\n",
              "Goal        0\n",
              "Pledged     0\n",
              "Backers     0\n",
              "State       0\n",
              "dtype: int64"
            ]
          },
          "execution_count": 45,
          "metadata": {},
          "output_type": "execute_result"
        }
      ],
      "source": [
        "# Se comprueba la existencia de datos nulos por cada columna del dataframe\n",
        "project_df.isnull().sum()"
      ]
    },
    {
      "cell_type": "markdown",
      "metadata": {
        "id": "39UpSltBXJEl"
      },
      "source": [
        "Como se puede apreciar, no hay presencia de datos nulos en el dataframe luego de la eliminación de las columnas previamente mencionadas. Por lo tanto, se trabajará con el dataframe que ha resultado posterior a la limpieza de las columnas innecesarias y cambio de etiquetas de la variable objetivo hecho anteriormente."
      ]
    },
    {
      "cell_type": "markdown",
      "metadata": {
        "id": "4-xktJRf60Bi"
      },
      "source": [
        "## **2.2 Preguntas a responde a partir de los datos**\n",
        "\n",
        "\n",
        "\n",
        "*   ¿El conjunto de datos está balanceado con respecto a las dos etiquetas de clase, y en caso de no estarlo, el desbalanceo no es lo suficientemente significativo para impedir que el dataset pueda ser usado para la aplicación de la tarea de clasificación?\n",
        "\n",
        "*   ¿Cuál es la categoría con mayor número de proyectos exitosos y cuál la de mayor número de proyectos fracasados?\n",
        "\n",
        "*   ¿Qué tan importante resulta ser el preprocesamiento de las variables numéricas, antes de realizar las tareas de entrenamiento y predicción sobre los modelos de aprendizaje máquina considerados en el presente estudio?\n",
        "\n"
      ]
    },
    {
      "cell_type": "markdown",
      "metadata": {
        "id": "a9EhyHdIy7y_"
      },
      "source": [
        "## **2.3 Objetivos**"
      ]
    },
    {
      "cell_type": "markdown",
      "metadata": {
        "id": "-sxy-UwAjKhE"
      },
      "source": [
        "**Objetivo General**. \\\\\n",
        "Clasificar correctamente en exitos o fracasos los proyectos expuestos en la plataforma *Kickstarter*, de tal manera que posibilite la toma de decisiones a creadores e inversores. \\\\\n",
        "\n",
        "**Objetivos Específicos**:\n",
        "\n",
        "\n",
        "1.   Seleccionar métodos de aprendizaje supervisado y no supervisado que posibiliten la clasificación de los proyectos publicados en la plataforma, teniendo en cuenta la naturaleza de los datos y el problema definido.\n",
        "\n",
        "2.   Evaluar a partir de las métricas apropidas el rendimiento de los diferentes modelos empleados en el problema de clasificación.\n",
        "\n",
        "3.   Definir el modelo de mayor precisión para la correcta agrupación de futuros datos, para así poder tomar decisiones de inversión basados en los resultados del modelo de aprendizaje automatico seleccionado\n",
        "\n",
        "\n"
      ]
    },
    {
      "cell_type": "markdown",
      "metadata": {
        "id": "HLjFAUgUl8Yn"
      },
      "source": [
        "## **2.4 Hipótesis**"
      ]
    },
    {
      "cell_type": "markdown",
      "source": [
        "* Se espera que los métodos de aprendizaje supervisado sean más precisos que los de aprendizaje no supevisado, pues estos tienen en cuenta los resultados de las etiquetas para el entrenamiento del modelo\n",
        "\n",
        "* Se espera un alto costo computacional debido a la cantidad de datos y la cantidad de dimensiones que pueden tener las variables de entrenamiento\n",
        "\n",
        "* Es probable que se pueda economizar en costo computacional mediante una reducción de dimensionalidad, por lo que se puede utilizar como estrategía en caso de que los modelos tarden un tiempo considerable\n",
        "\n",
        "* Se espera que algunas de las categorias como son tecnología, juegos diseño y arte sean aquellas con mayor tendencia a resultar en proyectos exitosos. De igual forma, se espera que de los paises más desarrollados se encuentren la mayor cantidad de proyectos exitosos pues pueden dar mayor confiabilidad a los patrocinadores e inversionistas."
      ],
      "metadata": {
        "id": "7UM57Du_cipN"
      }
    },
    {
      "cell_type": "markdown",
      "metadata": {
        "id": "86wK2CyIbDlv"
      },
      "source": [
        "# **3. Algunas visualizaciones del conjunto de datos**\n",
        "---\n",
        "\n",
        "Para determinar si el conjunto de datos se encuentra balanceado con respecto a la variable objetivo, se graficarán los datos empleando la librería Seaborn y algunos comandos que facilita el trabajo con Pandas."
      ]
    },
    {
      "cell_type": "code",
      "execution_count": null,
      "metadata": {
        "colab": {
          "base_uri": "https://localhost:8080/",
          "height": 504
        },
        "id": "1AaxgTpxpQa7",
        "outputId": "8b49be09-cdfe-4fbd-e11d-123214b13f27"
      },
      "outputs": [
        {
          "data": {
            "text/plain": [
              "Text(0.5, 1.0, 'Cantidad de proyectos por cada clase')"
            ]
          },
          "execution_count": 46,
          "metadata": {},
          "output_type": "execute_result"
        },
        {
          "data": {
            "image/png": "[encoded data removed]",
            "text/plain": [
              "<Figure size 500x500 with 1 Axes>"
            ]
          },
          "metadata": {},
          "output_type": "display_data"
        }
      ],
      "source": [
        "# Construcción de un diagrama de frecuencia para los datos de cada una de las clases.\n",
        "plt.figure(figsize=(5,5))\n",
        "sns.countplot(project_df, x='State', palette = 'viridis').set(xlabel = 'State', ylabel = 'Count Projects');\n",
        "plt.title('Cantidad de proyectos por cada clase')"
      ]
    },
    {
      "cell_type": "markdown",
      "metadata": {
        "id": "N8_8XFF4pset"
      },
      "source": [
        "Del gráfico anterior se puede apreciar que el conjunto de datos está desbalanceado, es decir, existen más datos correspondientes a la etiqueta Failed con respecto a los datos correspondientes a la etiqueta Successful. Por lo tanto, se procede a calcular los porcentajes del total de datos que corresponden a cada etiqueta, para finalmente determinar si el desbalanceo representaría un problema para el empleo de los métodos de aprendizaje de máquina."
      ]
    },
    {
      "cell_type": "code",
      "execution_count": null,
      "metadata": {
        "colab": {
          "base_uri": "https://localhost:8080/"
        },
        "id": "TqWzwiAtq95C",
        "outputId": "dc8ed1df-9bed-4639-e5c0-b11a22c0c01d"
      },
      "outputs": [
        {
          "name": "stdout",
          "output_type": "stream",
          "text": [
            "Cantidad de datos por cada etiqueta\n",
            "Failed        197611\n",
            "Successful    136649\n",
            "Name: State, dtype: int64\n",
            "-----------------------------------\n",
            "Porcentaje de datos correspondientes a la variable Failed: 59\n",
            "Porcentaje de datos correspondientes a la variable Successful: 41\n"
          ]
        }
      ],
      "source": [
        "# Se cuenta la cantidad de datos por etiqueta\n",
        "print('Cantidad de datos por cada etiqueta')\n",
        "data_classes = project_df['State'].value_counts()\n",
        "print(data_classes)\n",
        "print('-----------------------------------')\n",
        "\n",
        "# Se calcula el porcentaje de datos correspondiente a cada etiqueta\n",
        "c0 = np.round(data_classes[0]/project_df['State'].count()*100, 0).astype(int)\n",
        "c1 = np.round(data_classes[1]/project_df['State'].count()*100, 0).astype(int)\n",
        "print(f'Porcentaje de datos correspondientes a la variable Failed: {c0}')\n",
        "print(f'Porcentaje de datos correspondientes a la variable Successful: {c1}')\n",
        "\n"
      ]
    },
    {
      "cell_type": "markdown",
      "metadata": {
        "id": "N5_fkZLsuTWk"
      },
      "source": [
        "De la anterior ejecución podemos ver que la cantidad de datos con la etiqueta Failed corresponde solo al 59 % de los datos, mientras que el 41 % restante están asociados a la etiqueta Successful. Se concluye entonces que este desbalanceo no representa una limitante significativa para el trabajo con el conjunto de datos, y por tanto se podrán utilizar para la ejecución de los métodos de clasificación sin necesidad de emplear técnicas como el *oversampling* o *undersampling*.\n",
        "\n",
        "Ahora, para identificar cuál es la categoría con mayor número de proyectos exitosos y fracasados, se construirá un diagrama de barras que permita visualizar de mejor manera esta información.\n"
      ]
    },
    {
      "cell_type": "code",
      "execution_count": null,
      "metadata": {
        "colab": {
          "base_uri": "https://localhost:8080/",
          "height": 777
        },
        "id": "WbAoP7elv-Lr",
        "outputId": "11e7fca6-c9e1-4d22-a2c9-84569f809d7b"
      },
      "outputs": [
        {
          "data": {
            "image/png": "[encoded data removed]",
            "text/plain": [
              "<Figure size 1000x800 with 1 Axes>"
            ]
          },
          "metadata": {},
          "output_type": "display_data"
        }
      ],
      "source": [
        "# Se construye un diagrama de barras para el número de proyectos exitosos y fracasos por cada categoría\n",
        "plt.figure(figsize=(10,8))\n",
        "sns.color_palette(\"husl\", 8)\n",
        "sns.countplot(project_df, x = 'Category',hue = 'State', palette = 'husl');\n",
        "\n",
        "# Se cambian propiedades del gráfico como el título y la posición de las etiquetas del eje x\n",
        "plt.title('Proyectos exitosos y fracasados por categoría')\n",
        "plt.xlabel('State')\n",
        "plt.ylabel('Count Projects')\n",
        "plt.xticks(rotation = 45);"
      ]
    },
    {
      "cell_type": "markdown",
      "metadata": {
        "id": "uNoCmGPAwQ-I"
      },
      "source": [
        "El gráfico muestra que la categoría con mayor número de proyectos fracasados es *Film & Video*, sin embargo, curiosamente la categoría con mayor número de proyectos exitosos es *Film & Video* junto con *Music*. Este hecho podría suponer que el método de clasificación tendrá más trabajo al momento de clasificar proyectos que se encuentren en la categoría *Film & Video*."
      ]
    },
    {
      "cell_type": "markdown",
      "metadata": {
        "id": "nbYS5cR5bhUQ"
      },
      "source": [
        "# **4. Transformación de variables categóricas y escalamiento de variables numéricas**\n",
        "---\n",
        "\n",
        "Como ya se había mencionado, el dataframe contiene dos variables categóricas (*Category* y *Country*), que requieren ser transformadas para poder ser utilizadas en el modelo de predicción, mientras que las variables numéricas requieren ser escaladas, ya que algunos métodos de clasificación resultan ser sensibles a este factor. Para el caso de las variables categóricas se empleará el transformador One Hot Encoder y para el caso de las numéricas se utilizará el transformador Standard Scaler.\n",
        "\n"
      ]
    },
    {
      "cell_type": "code",
      "execution_count": null,
      "metadata": {
        "id": "_oapX6H91h3g"
      },
      "outputs": [],
      "source": [
        "# Incialmente, se configuran los datos en el formato X, y.\n",
        "X = project_df.drop(labels = 'State', axis = 1)\n",
        "y = project_df['State']"
      ]
    },
    {
      "cell_type": "code",
      "execution_count": null,
      "metadata": {
        "id": "RlJjbNSA09oz"
      },
      "outputs": [],
      "source": [
        "# Se cargan los módulos requeridos para aplicar las transformaciones\n",
        "from sklearn.preprocessing import OneHotEncoder, StandardScaler, MinMaxScaler\n",
        "from sklearn.compose import ColumnTransformer\n",
        "\n",
        "# Se seleccionan las columnas a las que se les aplicará la transformación. dtypes object para categóricas y int 64 para las numéricas.\n",
        "X_categoric = X.select_dtypes(['object'])\n",
        "X_numeric = X.select_dtypes(['int64'])\n",
        "tf = ColumnTransformer([('onehot', OneHotEncoder(), X_categoric.columns),\n",
        "                        ('scaler', StandardScaler(), X_numeric.columns)])\n",
        "\n",
        "# Se aplica el ajuste sobre el dataframe. Se supone que la salida es una matriz de Numpy que ya contiene las transformaciones aplicadas.\n",
        "X_preprocessed = tf.fit_transform(X)"
      ]
    },
    {
      "cell_type": "markdown",
      "metadata": {
        "id": "uzAUPMjP2EgK"
      },
      "source": [
        "Algunos métodos de clasificación como los árboles de decisión y bosques aleatorios son invariantes al escalamiento de las variables numéricas, por lo tanto, previendo que se trabajará con alguna de estas dos técnicas, a continuación se aplicará la técnica de transformación solo a las variables categóricas, dejando las numéricas con sus valores originales. Esto también con el objetivo de probar en algunos otros métodos el desempeño del modelo con y sin escalamiento de las variables numéricas."
      ]
    },
    {
      "cell_type": "code",
      "execution_count": null,
      "metadata": {
        "id": "3zKSwvtP2v91"
      },
      "outputs": [],
      "source": [
        "# Se seleccionan únicamente las variables categóricas del dataframe original\n",
        "X_categoric = X.select_dtypes(['object'])\n",
        "tf = ColumnTransformer([('onehot', OneHotEncoder(sparse = False), X_categoric.columns)])\n",
        "\n",
        "# Se aplica el ajuste sobre el dataframe. Se supone que la salida es una matriz de Numpy que ya contiene las transformaciones aplicadas.\n",
        "X_preproc_cat = tf.fit_transform(X)\n",
        "\n",
        "# Se crea una matriz concatenando las variables categóricas transformadas con las variables numéricas sin escalar.\n",
        "X_preprocessed_2 = np.concatenate((X_preproc_cat, X[['Goal', 'Pledged', 'Backers']].values), axis = 1)"
      ]
    },
    {
      "cell_type": "markdown",
      "metadata": {
        "id": "_6h5p1Qt4DVC"
      },
      "source": [
        "Finalmente, se preprocesará la variable objetivo $y$ con el transformador Label Encoder para cambiar las etiquetas *Failed* y *Successful* por valores de 0 y 1 respectivamente."
      ]
    },
    {
      "cell_type": "code",
      "execution_count": null,
      "metadata": {
        "colab": {
          "base_uri": "https://localhost:8080/"
        },
        "id": "6Wqlygl24MGL",
        "outputId": "2c92e0c8-6068-400f-d120-9b794e72d26c"
      },
      "outputs": [
        {
          "name": "stdout",
          "output_type": "stream",
          "text": [
            "<class 'numpy.ndarray'>\n",
            "Tamaño de X_preprocessed: (334260,)\n"
          ]
        }
      ],
      "source": [
        "# Se importa el módulo necesario para la transformación\n",
        "from sklearn.preprocessing import LabelEncoder\n",
        "\n",
        "# Se declara el transformador en una variable\n",
        "le = LabelEncoder()\n",
        "\n",
        "# Se realiza la transformación al arreglo de etiquietas original, y se guarda en una nueva variable\n",
        "y_preprocessed = le.fit_transform(y)\n",
        "\n",
        "# Se imprime el tipo de variable y su tamaño para verificar que está en el formato adecuado.\n",
        "print(type(y_preprocessed))\n",
        "print(f'Tamaño de X_preprocessed: {y_preprocessed.shape}')"
      ]
    },
    {
      "cell_type": "markdown",
      "metadata": {
        "id": "1dsi05iRi2qX"
      },
      "source": [
        "# **5. Partición de los datos en entrenamiento y prueba**\n",
        "---\n",
        "Enseguida se hará la partición del conjunto en entrenamiento y prueba. Como ya se mención anteriormente, el dataset tiene datos desbalanceados, es decir, la cantidad de datos que corresponden a cada una de las etiquetas no es igual, por lo que se hará una partición estratificada. Como se emplearán datos preprocesados para las variables numéricas y otros que no lo están, se definirá una función que construya las particiones empleando `train_test_split` para cada uno de los dos casos."
      ]
    },
    {
      "cell_type": "code",
      "execution_count": null,
      "metadata": {
        "id": "71aOeasP6IuU"
      },
      "outputs": [],
      "source": [
        "# Se carga el módulo requerido para construir la partición\n",
        "from sklearn import model_selection\n",
        "\n",
        "# Se define la función para realizar la partición de los datos\n",
        "def data_partition(X, y):\n",
        "  X_train, X_test, y_train, y_test = model_selection.train_test_split(X, y, \n",
        "                                                                      test_size = 0.3, \n",
        "                                                                      stratify = y)\n",
        "  return X_train, X_test, y_train, y_test"
      ]
    },
    {
      "cell_type": "markdown",
      "metadata": {
        "id": "Mzy-DbB1zpuN"
      },
      "source": [
        "# **6. Métodos Supervisados**\n",
        "---\n",
        "Una vez concluida la etapa de preprocesamiento y preparación de los datos, se aplicarán métodos de clasificación supervisados para resolver el problema que se planteó inicialmente. Por sus bondades y por el problema que se intenta resolver, se probaran los métodos Random Forest (o bosques aleatorios) y redes neuronales. Inicialmente se propone la exploración de algunos hiperparámetros para cada método, por lo que se hará necesario emplear `GridSearchCV`para el particionamiento del conjunto de datos de entrenamiento en las particiones de entrenamiento y validación, con el objetivo de realizar una validación cruzada de 3 pliegues que permita la selección de los mejores hiperparámetros. Una vez seleccionados, se aplicará la predicción y se obtendrán las diferentes métricas de cada método para poder compararlos. "
      ]
    },
    {
      "cell_type": "markdown",
      "metadata": {
        "id": "BCSUsQp5-Fk1"
      },
      "source": [
        "## **6.1 Método Random Forest**\n",
        "\n",
        "Por la naturaleza del conjunto de datos y del problema definido (similar a un problema de scores de crédito), se selecciona el método de bosques aleatorios o random forest, para realizar la tarea de clasificación. Los dos hiperparámetros que se probarán serán el criterio (criterion) y la profundidad máxima del árbol (max_depth)."
      ]
    },
    {
      "cell_type": "markdown",
      "metadata": {
        "id": "7mm8H9G5_aAx"
      },
      "source": [
        "### **6.1.1 Exploración de hiperparámetros**"
      ]
    },
    {
      "cell_type": "markdown",
      "metadata": {
        "id": "gwuCnxL_AF78"
      },
      "source": [
        "Inicialmente se construye el diccionario que contendrá el nombre del hiperparámetro, junto con los valores que se explorarán."
      ]
    },
    {
      "cell_type": "code",
      "execution_count": null,
      "metadata": {
        "id": "SeDwZVce_iuY"
      },
      "outputs": [],
      "source": [
        "# Criterio\n",
        "criterion = ['gini', 'entropy']\n",
        "\n",
        "# Profundidad máxima del árbol\n",
        "max_depth = [int(x) for x in np.linspace(10, 110, num = 11)]\n",
        "max_depth.append(None)\n",
        "\n",
        "# Construcción del diccionario con los valores de los hiperparámetros a explorar \n",
        "hiperparams = {'criterion': criterion, 'max_depth': max_depth}"
      ]
    },
    {
      "cell_type": "markdown",
      "metadata": {
        "id": "4uVT4_9yAgdy"
      },
      "source": [
        "Posteriormente, se declara el método de aprendizaje de máquina a emplear en una variable y se define el objeto GridSeachCV para poder realizar la exploración."
      ]
    },
    {
      "cell_type": "code",
      "execution_count": null,
      "metadata": {
        "colab": {
          "base_uri": "https://localhost:8080/"
        },
        "id": "rwStuPpeAyJn",
        "outputId": "82013edf-d167-4545-d1d6-d1cd47815019"
      },
      "outputs": [
        {
          "name": "stdout",
          "output_type": "stream",
          "text": [
            "Mejores hiperparámetros:\n",
            " {'criterion': 'gini', 'max_depth': 30}\n",
            "Mejor exactitud (validación): 0.988832\n"
          ]
        }
      ],
      "source": [
        "# Se importa el método necesario para la exploración.\n",
        "from sklearn.model_selection import GridSearchCV\n",
        "from sklearn.ensemble import RandomForestClassifier\n",
        "\n",
        "# Se particionan los datos en entrenamiento y prueba, sin escalar los datos de las variables numéricas\n",
        "X_train, X_test, y_train, y_test = data_partition(X_preprocessed_2, y_preprocessed)\n",
        "\n",
        "# Se declara el método de aprendizaje de máquina\n",
        "clf_rf = RandomForestClassifier()\n",
        "\n",
        "# Se declara GridSearch para la búsqueda de los hiperparámetros\n",
        "grid_clf_rf = GridSearchCV(clf_rf, param_grid = hiperparams, cv = 3)\n",
        "\n",
        "# Se entrena el modelo con los datos de entrenamiento\n",
        "grid_clf_rf.fit(X_train, y_train)\n",
        "\n",
        "# Se imprimen los mejores hiperparámetros y el valor de exactitud de validación\n",
        "print(f'Mejores hiperparámetros:\\n {grid_clf_rf.best_params_}')\n",
        "print(f'Mejor exactitud (validación): {grid_clf_rf.best_score_:.6f}')"
      ]
    },
    {
      "cell_type": "markdown",
      "metadata": {
        "id": "mDZhlNnPDCSU"
      },
      "source": [
        "### **6.1.2 Clasificación de nuevos datos con la partición de entrenamiento y métricas de desempeño**\n",
        "\n",
        "Una vez el modelo ha sido entrenado, se usará la partición de prueba con el fin de repetir la tarea de clasificación con datos que el modelo no ha visto antes, y así poder evaluar su desempeño a través de las métricas Accuracy, Precision, Recall y F1 score y la matriz de confusión."
      ]
    },
    {
      "cell_type": "code",
      "execution_count": null,
      "metadata": {
        "id": "nIipvBGFEUmp"
      },
      "outputs": [],
      "source": [
        "# Se define una función que permita visualizar la matriz de confusión de una manera apropiada.\n",
        "def show_cm(cm, classes):\n",
        "  df = pd.DataFrame(data = cm,\n",
        "                    index = pd.MultiIndex.from_product([['Valor real'], classes]),\n",
        "                    columns = pd.MultiIndex.from_product([['Valor predicho'], classes]))\n",
        "  return df"
      ]
    },
    {
      "cell_type": "code",
      "execution_count": null,
      "metadata": {
        "colab": {
          "base_uri": "https://localhost:8080/",
          "height": 143
        },
        "id": "VAuUbu7hEr5s",
        "outputId": "1604d8ba-2112-4c7b-9544-c4e2d1fd4210"
      },
      "outputs": [
        {
          "data": {
            "text/html": [
              "\n",
              "  <div id=\"df-4c9a1666-e668-4cfe-9728-82740fccf4ca\">\n",
              "    <div class=\"colab-df-container\">\n",
              "      <div>\n",
              "<style scoped>\n",
              "    .dataframe tbody tr th:only-of-type {\n",
              "        vertical-align: middle;\n",
              "    }\n",
              "\n",
              "    .dataframe tbody tr th {\n",
              "        vertical-align: top;\n",
              "    }\n",
              "\n",
              "    .dataframe thead tr th {\n",
              "        text-align: left;\n",
              "    }\n",
              "</style>\n",
              "<table border=\"1\" class=\"dataframe\">\n",
              "  <thead>\n",
              "    <tr>\n",
              "      <th></th>\n",
              "      <th></th>\n",
              "      <th colspan=\"2\" halign=\"left\">Valor predicho</th>\n",
              "    </tr>\n",
              "    <tr>\n",
              "      <th></th>\n",
              "      <th></th>\n",
              "      <th>Failed</th>\n",
              "      <th>Successful</th>\n",
              "    </tr>\n",
              "  </thead>\n",
              "  <tbody>\n",
              "    <tr>\n",
              "      <th rowspan=\"2\" valign=\"top\">Valor real</th>\n",
              "      <th>Failed</th>\n",
              "      <td>58907</td>\n",
              "      <td>376</td>\n",
              "    </tr>\n",
              "    <tr>\n",
              "      <th>Successful</th>\n",
              "      <td>703</td>\n",
              "      <td>40292</td>\n",
              "    </tr>\n",
              "  </tbody>\n",
              "</table>\n",
              "</div>\n",
              "      <button class=\"colab-df-convert\" onclick=\"convertToInteractive('df-4c9a1666-e668-4cfe-9728-82740fccf4ca')\"\n",
              "              title=\"Convert this dataframe to an interactive table.\"\n",
              "              style=\"display:none;\">\n",
              "        \n",
              "  <svg xmlns=\"http://www.w3.org/2000/svg\" height=\"24px\"viewBox=\"0 0 24 24\"\n",
              "       width=\"24px\">\n",
              "    <path d=\"M0 0h24v24H0V0z\" fill=\"none\"/>\n",
              "    <path d=\"M18.56 5.44l.94 2.06.94-2.06 2.06-.94-2.06-.94-.94-2.06-.94 2.06-2.06.94zm-11 1L8.5 8.5l.94-2.06 2.06-.94-2.06-.94L8.5 2.5l-.94 2.06-2.06.94zm10 10l.94 2.06.94-2.06 2.06-.94-2.06-.94-.94-2.06-.94 2.06-2.06.94z\"/><path d=\"M17.41 7.96l-1.37-1.37c-.4-.4-.92-.59-1.43-.59-.52 0-1.04.2-1.43.59L10.3 9.45l-7.72 7.72c-.78.78-.78 2.05 0 2.83L4 21.41c.39.39.9.59 1.41.59.51 0 1.02-.2 1.41-.59l7.78-7.78 2.81-2.81c.8-.78.8-2.07 0-2.86zM5.41 20L4 18.59l7.72-7.72 1.47 1.35L5.41 20z\"/>\n",
              "  </svg>\n",
              "      </button>\n",
              "      \n",
              "  <style>\n",
              "    .colab-df-container {\n",
              "      display:flex;\n",
              "      flex-wrap:wrap;\n",
              "      gap: 12px;\n",
              "    }\n",
              "\n",
              "    .colab-df-convert {\n",
              "      background-color: #E8F0FE;\n",
              "      border: none;\n",
              "      border-radius: 50%;\n",
              "      cursor: pointer;\n",
              "      display: none;\n",
              "      fill: #1967D2;\n",
              "      height: 32px;\n",
              "      padding: 0 0 0 0;\n",
              "      width: 32px;\n",
              "    }\n",
              "\n",
              "    .colab-df-convert:hover {\n",
              "      background-color: #E2EBFA;\n",
              "      box-shadow: 0px 1px 2px rgba(60, 64, 67, 0.3), 0px 1px 3px 1px rgba(60, 64, 67, 0.15);\n",
              "      fill: #174EA6;\n",
              "    }\n",
              "\n",
              "    [theme=dark] .colab-df-convert {\n",
              "      background-color: #3B4455;\n",
              "      fill: #D2E3FC;\n",
              "    }\n",
              "\n",
              "    [theme=dark] .colab-df-convert:hover {\n",
              "      background-color: #434B5C;\n",
              "      box-shadow: 0px 1px 3px 1px rgba(0, 0, 0, 0.15);\n",
              "      filter: drop-shadow(0px 1px 2px rgba(0, 0, 0, 0.3));\n",
              "      fill: #FFFFFF;\n",
              "    }\n",
              "  </style>\n",
              "\n",
              "      <script>\n",
              "        const buttonEl =\n",
              "          document.querySelector('#df-4c9a1666-e668-4cfe-9728-82740fccf4ca button.colab-df-convert');\n",
              "        buttonEl.style.display =\n",
              "          google.colab.kernel.accessAllowed ? 'block' : 'none';\n",
              "\n",
              "        async function convertToInteractive(key) {\n",
              "          const element = document.querySelector('#df-4c9a1666-e668-4cfe-9728-82740fccf4ca');\n",
              "          const dataTable =\n",
              "            await google.colab.kernel.invokeFunction('convertToInteractive',\n",
              "                                                     [key], {});\n",
              "          if (!dataTable) return;\n",
              "\n",
              "          const docLinkHtml = 'Like what you see? Visit the ' +\n",
              "            '<a target=\"_blank\" href=https://colab.research.google.com/notebooks/data_table.ipynb>data table notebook</a>'\n",
              "            + ' to learn more about interactive tables.';\n",
              "          element.innerHTML = '';\n",
              "          dataTable['output_type'] = 'display_data';\n",
              "          await google.colab.output.renderOutput(dataTable, element);\n",
              "          const docLink = document.createElement('div');\n",
              "          docLink.innerHTML = docLinkHtml;\n",
              "          element.appendChild(docLink);\n",
              "        }\n",
              "      </script>\n",
              "    </div>\n",
              "  </div>\n",
              "  "
            ],
            "text/plain": [
              "                      Valor predicho           \n",
              "                              Failed Successful\n",
              "Valor real Failed              58907        376\n",
              "           Successful            703      40292"
            ]
          },
          "execution_count": 21,
          "metadata": {},
          "output_type": "execute_result"
        }
      ],
      "source": [
        "# Se importa la librería necesaria para la construcción de la matriz de confusión\n",
        "from sklearn.metrics import confusion_matrix\n",
        "\n",
        "# Se construye la variable que contiene las etiquetas predichas por el modelo\n",
        "y_predt = grid_clf_rf.predict(X_test)\n",
        "\n",
        "# Se visualiza la matriz de confusión\n",
        "cm = confusion_matrix(y_test, y_predt)\n",
        "classes = project_df['State'].unique()\n",
        "show_cm(cm, classes)"
      ]
    },
    {
      "cell_type": "code",
      "execution_count": null,
      "metadata": {
        "colab": {
          "base_uri": "https://localhost:8080/"
        },
        "id": "4akuKVsnF6SG",
        "outputId": "5d17a74f-7e02-48dc-cd75-82dcdb467a2e"
      },
      "outputs": [
        {
          "name": "stdout",
          "output_type": "stream",
          "text": [
            "              precision    recall  f1-score   support\n",
            "\n",
            "      Failed     0.9882    0.9937    0.9909     59283\n",
            "  Successful     0.9908    0.9829    0.9868     40995\n",
            "\n",
            "    accuracy                         0.9892    100278\n",
            "   macro avg     0.9895    0.9883    0.9889    100278\n",
            "weighted avg     0.9892    0.9892    0.9892    100278\n",
            "\n"
          ]
        }
      ],
      "source": [
        "# Se importa el módulo requerido para obtener el reporte de métricas de clasificación\n",
        "from sklearn.metrics import classification_report\n",
        "\n",
        "# Se imprime el reporte de métricas de desempeño del modelo\n",
        "print(classification_report(y_test,    \n",
        "                            y_predt,                                \n",
        "                            target_names = classes,  \n",
        "                            digits=4)) "
      ]
    },
    {
      "cell_type": "markdown",
      "metadata": {
        "id": "mmacnGApGstm"
      },
      "source": [
        "De la matriz de confusión, se puede observar que el modelo clasificó correctamente 58907 ejemplos de la clase *Failed*, equivocándose en 376, demás de lograr clasificar correctamente 40288 ejemplos de la clase *Successful*, equivocándose en 703. El modelo registró un accuracy de 0.9892, y como se trabajó con un conjunto de datos que no posee un desbalanceo muy significativo, el valor reportado por esta métrica puede considerarse como confiable. Por otro lado, los valores reportados por las métricas de precisión, recall y F1 también son muy buenos, como se puede observar en el reporte de clasificación. En conclusión, el modelo de apredizaje *Random Forest* se puede considerar como un muy buen modelo para la tarea de clasificación, particularmente para el problema abordado en el presente proyecto."
      ]
    },
    {
      "cell_type": "markdown",
      "metadata": {
        "id": "tunj33UZHQA0"
      },
      "source": [
        "## **6.2 Método de redes neuronales**\n",
        "\n",
        "Con el objetivo de ensayar otro método de clasificiación para el problema abordado en este proyecto, se aplicará el modelo de redes neuronales para compararlo con el método aplicado anteriormente, y de acuerdo a las métricas de evaluación, poder decidir cúal es de los dos puede realizar mejores predicciones. \n",
        "\n",
        "Inicialmente, se aplicará el modelo con los datos correspondientes a las variables numéricas sin realizar un escalamiento, posteriormente se escalarán las variables, usando la técnica de la estandarización y se evaluará el modelo nuevamente, con el fin de determinar si existen mejorías con el hecho de escalar las variables numéricas del conjunto de datos, ya que se supone el módelo de redes neuronales es muy sensible al escalamiento de las variables. Además, se utilizará el método gridsearch para probar el número de neuronas en las capas ocultas, el método de activación, el valor de $\\alpha$ y la taza de aprendizaje, para seleccionar los mejores hiperparámetros para la tarea de clasificación del modelo."
      ]
    },
    {
      "cell_type": "markdown",
      "metadata": {
        "id": "rQTtg8OIHpvm"
      },
      "source": [
        "### **6.2.1 Exploración de hiperparámetros con variables numéricas sin escalar**\n",
        "\n",
        "A continuación se repiten los mismos pasos empleados en la exploración de hiperparámetros del método anterior, es decir, se construye el diccionario con los hiperparámetros a explorar y posteriormente se declaran las variables que contentrán cada uno de los objetos necesarios para el entrenamiento del modelo."
      ]
    },
    {
      "cell_type": "code",
      "execution_count": null,
      "metadata": {
        "colab": {
          "base_uri": "https://localhost:8080/"
        },
        "id": "pNMtrF__IT8T",
        "outputId": "8dc85933-f002-4c4a-a24b-6056e56fe66c"
      },
      "outputs": [
        {
          "name": "stdout",
          "output_type": "stream",
          "text": [
            "Mejores hiperparámetros:\n",
            " {'activation': 'logistic', 'alpha': 0.0001, 'hidden_layer_sizes': (10, 30, 10), 'learning_rate': 'adaptive'}\n",
            "Mejor exactitud (validación): 0.992790\n"
          ]
        }
      ],
      "source": [
        "# Se importa el módulo requerido para el uso del método de clasificación\n",
        "from sklearn.neural_network import MLPClassifier\n",
        "\n",
        "# Se declara el método en una variable\n",
        "mlp_gs = MLPClassifier(max_iter=100)\n",
        "\n",
        "# Se construye el diccionario con los hiperparámetros del modelo a probar\n",
        "hiperparams = {\n",
        "    'hidden_layer_sizes': [(10,30,10),(20,)], # Se probarán tres capas ocultas, cada una de 10, 30 y 10 neuronas respectivamente, o una sola capa oculta de 20 neuronas\n",
        "    'activation': ['logistic', 'relu'], \n",
        "    'alpha': [0.0001, 0.05],\n",
        "    'learning_rate': ['constant','adaptive'],\n",
        "}\n",
        "\n",
        "grid_clf_nn = GridSearchCV(mlp_gs, hiperparams, cv = 3)\n",
        "grid_clf_nn.fit(X_train, y_train)\n",
        "\n",
        "# Se imprimen los mejores hiperparámetros y el valor de exactitud de validación\n",
        "print(f'Mejores hiperparámetros:\\n {grid_clf_nn.best_params_}')\n",
        "print(f'Mejor exactitud (validación): {grid_clf_nn.best_score_:.6f}')"
      ]
    },
    {
      "cell_type": "markdown",
      "metadata": {
        "id": "t5E6l9tsKGkX"
      },
      "source": [
        "### **6.2.2 Clasificación de nuevos datos con la partición de entrenamiento y métricas de desempeño**\n",
        "\n",
        "Una vez el modelo ha sido entrenado, se usará la partición de prueba con el fin de repetir la tarea de clasificación con datos que el modelo no ha visto antes, y así poder evaluar su desempeño a través de las métricas Accuracy, Precision, Recall y F1 score y la matriz de confusión."
      ]
    },
    {
      "cell_type": "code",
      "execution_count": null,
      "metadata": {
        "colab": {
          "base_uri": "https://localhost:8080/",
          "height": 143
        },
        "id": "dMKAprY8KKMD",
        "outputId": "8ebf9e86-792e-4e53-890f-6dca1ed80b78"
      },
      "outputs": [
        {
          "data": {
            "text/html": [
              "\n",
              "  <div id=\"df-f41ca561-7e82-4fc6-91db-6d1dabb193f6\">\n",
              "    <div class=\"colab-df-container\">\n",
              "      <div>\n",
              "<style scoped>\n",
              "    .dataframe tbody tr th:only-of-type {\n",
              "        vertical-align: middle;\n",
              "    }\n",
              "\n",
              "    .dataframe tbody tr th {\n",
              "        vertical-align: top;\n",
              "    }\n",
              "\n",
              "    .dataframe thead tr th {\n",
              "        text-align: left;\n",
              "    }\n",
              "</style>\n",
              "<table border=\"1\" class=\"dataframe\">\n",
              "  <thead>\n",
              "    <tr>\n",
              "      <th></th>\n",
              "      <th></th>\n",
              "      <th colspan=\"2\" halign=\"left\">Valor predicho</th>\n",
              "    </tr>\n",
              "    <tr>\n",
              "      <th></th>\n",
              "      <th></th>\n",
              "      <th>Failed</th>\n",
              "      <th>Successful</th>\n",
              "    </tr>\n",
              "  </thead>\n",
              "  <tbody>\n",
              "    <tr>\n",
              "      <th rowspan=\"2\" valign=\"top\">Valor real</th>\n",
              "      <th>Failed</th>\n",
              "      <td>59182</td>\n",
              "      <td>101</td>\n",
              "    </tr>\n",
              "    <tr>\n",
              "      <th>Successful</th>\n",
              "      <td>693</td>\n",
              "      <td>40302</td>\n",
              "    </tr>\n",
              "  </tbody>\n",
              "</table>\n",
              "</div>\n",
              "      <button class=\"colab-df-convert\" onclick=\"convertToInteractive('df-f41ca561-7e82-4fc6-91db-6d1dabb193f6')\"\n",
              "              title=\"Convert this dataframe to an interactive table.\"\n",
              "              style=\"display:none;\">\n",
              "        \n",
              "  <svg xmlns=\"http://www.w3.org/2000/svg\" height=\"24px\"viewBox=\"0 0 24 24\"\n",
              "       width=\"24px\">\n",
              "    <path d=\"M0 0h24v24H0V0z\" fill=\"none\"/>\n",
              "    <path d=\"M18.56 5.44l.94 2.06.94-2.06 2.06-.94-2.06-.94-.94-2.06-.94 2.06-2.06.94zm-11 1L8.5 8.5l.94-2.06 2.06-.94-2.06-.94L8.5 2.5l-.94 2.06-2.06.94zm10 10l.94 2.06.94-2.06 2.06-.94-2.06-.94-.94-2.06-.94 2.06-2.06.94z\"/><path d=\"M17.41 7.96l-1.37-1.37c-.4-.4-.92-.59-1.43-.59-.52 0-1.04.2-1.43.59L10.3 9.45l-7.72 7.72c-.78.78-.78 2.05 0 2.83L4 21.41c.39.39.9.59 1.41.59.51 0 1.02-.2 1.41-.59l7.78-7.78 2.81-2.81c.8-.78.8-2.07 0-2.86zM5.41 20L4 18.59l7.72-7.72 1.47 1.35L5.41 20z\"/>\n",
              "  </svg>\n",
              "      </button>\n",
              "      \n",
              "  <style>\n",
              "    .colab-df-container {\n",
              "      display:flex;\n",
              "      flex-wrap:wrap;\n",
              "      gap: 12px;\n",
              "    }\n",
              "\n",
              "    .colab-df-convert {\n",
              "      background-color: #E8F0FE;\n",
              "      border: none;\n",
              "      border-radius: 50%;\n",
              "      cursor: pointer;\n",
              "      display: none;\n",
              "      fill: #1967D2;\n",
              "      height: 32px;\n",
              "      padding: 0 0 0 0;\n",
              "      width: 32px;\n",
              "    }\n",
              "\n",
              "    .colab-df-convert:hover {\n",
              "      background-color: #E2EBFA;\n",
              "      box-shadow: 0px 1px 2px rgba(60, 64, 67, 0.3), 0px 1px 3px 1px rgba(60, 64, 67, 0.15);\n",
              "      fill: #174EA6;\n",
              "    }\n",
              "\n",
              "    [theme=dark] .colab-df-convert {\n",
              "      background-color: #3B4455;\n",
              "      fill: #D2E3FC;\n",
              "    }\n",
              "\n",
              "    [theme=dark] .colab-df-convert:hover {\n",
              "      background-color: #434B5C;\n",
              "      box-shadow: 0px 1px 3px 1px rgba(0, 0, 0, 0.15);\n",
              "      filter: drop-shadow(0px 1px 2px rgba(0, 0, 0, 0.3));\n",
              "      fill: #FFFFFF;\n",
              "    }\n",
              "  </style>\n",
              "\n",
              "      <script>\n",
              "        const buttonEl =\n",
              "          document.querySelector('#df-f41ca561-7e82-4fc6-91db-6d1dabb193f6 button.colab-df-convert');\n",
              "        buttonEl.style.display =\n",
              "          google.colab.kernel.accessAllowed ? 'block' : 'none';\n",
              "\n",
              "        async function convertToInteractive(key) {\n",
              "          const element = document.querySelector('#df-f41ca561-7e82-4fc6-91db-6d1dabb193f6');\n",
              "          const dataTable =\n",
              "            await google.colab.kernel.invokeFunction('convertToInteractive',\n",
              "                                                     [key], {});\n",
              "          if (!dataTable) return;\n",
              "\n",
              "          const docLinkHtml = 'Like what you see? Visit the ' +\n",
              "            '<a target=\"_blank\" href=https://colab.research.google.com/notebooks/data_table.ipynb>data table notebook</a>'\n",
              "            + ' to learn more about interactive tables.';\n",
              "          element.innerHTML = '';\n",
              "          dataTable['output_type'] = 'display_data';\n",
              "          await google.colab.output.renderOutput(dataTable, element);\n",
              "          const docLink = document.createElement('div');\n",
              "          docLink.innerHTML = docLinkHtml;\n",
              "          element.appendChild(docLink);\n",
              "        }\n",
              "      </script>\n",
              "    </div>\n",
              "  </div>\n",
              "  "
            ],
            "text/plain": [
              "                      Valor predicho           \n",
              "                              Failed Successful\n",
              "Valor real Failed              59182        101\n",
              "           Successful            693      40302"
            ]
          },
          "execution_count": 24,
          "metadata": {},
          "output_type": "execute_result"
        }
      ],
      "source": [
        "# Se construye la variable que contiene las etiquetas predichas por el modelo\n",
        "y_predt = grid_clf_nn.predict(X_test)\n",
        "\n",
        "# Se visualiza la matriz de confusión\n",
        "cm = confusion_matrix(y_test, y_predt)\n",
        "classes = project_df['State'].unique()\n",
        "show_cm(cm, classes)"
      ]
    },
    {
      "cell_type": "code",
      "execution_count": null,
      "metadata": {
        "colab": {
          "base_uri": "https://localhost:8080/"
        },
        "id": "fLtdjZ1VKbJ1",
        "outputId": "c518ca41-dc8b-4d4d-f7bd-5b3b65c80e63"
      },
      "outputs": [
        {
          "name": "stdout",
          "output_type": "stream",
          "text": [
            "              precision    recall  f1-score   support\n",
            "\n",
            "      Failed     0.9884    0.9983    0.9933     59283\n",
            "  Successful     0.9975    0.9831    0.9902     40995\n",
            "\n",
            "    accuracy                         0.9921    100278\n",
            "   macro avg     0.9930    0.9907    0.9918    100278\n",
            "weighted avg     0.9921    0.9921    0.9921    100278\n",
            "\n"
          ]
        }
      ],
      "source": [
        "# Se imprime el reporte de métricas de desempeño del modelo\n",
        "print(classification_report(y_test,    \n",
        "                            y_predt,                                \n",
        "                            target_names = classes,  \n",
        "                            digits=4)) "
      ]
    },
    {
      "cell_type": "markdown",
      "metadata": {
        "id": "3iGWS3JpKpJu"
      },
      "source": [
        "Como se puede observar en la matriz de confusión, el modelo de aprendizaje por redes neuronales es capaz de clasificar de mejor manera los nuevos ejemplos de las dos clases, ya que se equivocó en 101 y 693 de los ejemplos de la clase Failed y Successful respectivamente, comparados con los 376 y 703 del método de bosques aleatorios. En cuanto a la clasificación de ejemplos correspondientes con la etiqueta Failed, el método de redes neuronales los clasifica con menos errores, mientras que para la etiqueta Successful, la mejoría es muy leve."
      ]
    },
    {
      "cell_type": "markdown",
      "metadata": {
        "id": "8ac2SiJULTJe"
      },
      "source": [
        "### **6.2.3 Exploración de hiperparámetros con variables numéricas escaladas y clasificación de nuevos datos**\n"
      ]
    },
    {
      "cell_type": "markdown",
      "metadata": {
        "id": "HU8Nj4WvK69L"
      },
      "source": [
        "Ahora, se volverá a ejecutar el modelo de redes neuronales, esta vez escalando las variables numéricas, para determinar si es posible mejorar la clasificación de los ejemplos correspondientes a la clase *Successful*, y mejorar los resultados obtenidos con el método sin emplear el escalamiento de las variables numéricas."
      ]
    },
    {
      "cell_type": "code",
      "execution_count": null,
      "metadata": {
        "colab": {
          "base_uri": "https://localhost:8080/"
        },
        "id": "Hzrmj0b8Lm0i",
        "outputId": "e72c8c99-25bd-4a89-bcc3-47bf83552254"
      },
      "outputs": [
        {
          "name": "stdout",
          "output_type": "stream",
          "text": [
            "Mejores hiperparámetros:\n",
            " {'activation': 'relu', 'alpha': 0.0001, 'hidden_layer_sizes': (10, 30, 10), 'learning_rate': 'adaptive'}\n",
            "Mejor exactitud (validación): 0.919092\n"
          ]
        }
      ],
      "source": [
        "# Se particionan los datos en entrenamiento y prueba, escalando los datos de las variables numéricas\n",
        "X_train, X_test, y_train, y_test = data_partition(X_preprocessed, y_preprocessed)\n",
        "\n",
        "# Se declara el método para la búsqueda de los hiperparámetros y se entrena el modelo\n",
        "grid_clf_nn = GridSearchCV(mlp_gs, hiperparams, cv = 3)\n",
        "grid_clf_nn.fit(X_train, y_train)\n",
        "\n",
        "# Se imprimen los mejores hiperparámetros y el valor de exactitud de validación\n",
        "print(f'Mejores hiperparámetros:\\n {grid_clf_nn.best_params_}')\n",
        "print(f'Mejor exactitud (validación): {grid_clf_nn.best_score_:.6f}')"
      ]
    },
    {
      "cell_type": "markdown",
      "metadata": {
        "id": "8vmLRynTNHBx"
      },
      "source": [
        "Finalmente, se entrena el modelo y se obtienen las diferentes métricas de desempeño"
      ]
    },
    {
      "cell_type": "code",
      "execution_count": null,
      "metadata": {
        "colab": {
          "base_uri": "https://localhost:8080/",
          "height": 143
        },
        "id": "kEnxbvCLNNis",
        "outputId": "f4597ef6-25ab-43c5-d637-bde5c37efaba"
      },
      "outputs": [
        {
          "data": {
            "text/html": [
              "\n",
              "  <div id=\"df-b40a6353-55ce-483e-a73e-4e5ca6402081\">\n",
              "    <div class=\"colab-df-container\">\n",
              "      <div>\n",
              "<style scoped>\n",
              "    .dataframe tbody tr th:only-of-type {\n",
              "        vertical-align: middle;\n",
              "    }\n",
              "\n",
              "    .dataframe tbody tr th {\n",
              "        vertical-align: top;\n",
              "    }\n",
              "\n",
              "    .dataframe thead tr th {\n",
              "        text-align: left;\n",
              "    }\n",
              "</style>\n",
              "<table border=\"1\" class=\"dataframe\">\n",
              "  <thead>\n",
              "    <tr>\n",
              "      <th></th>\n",
              "      <th></th>\n",
              "      <th colspan=\"2\" halign=\"left\">Valor predicho</th>\n",
              "    </tr>\n",
              "    <tr>\n",
              "      <th></th>\n",
              "      <th></th>\n",
              "      <th>Failed</th>\n",
              "      <th>Successful</th>\n",
              "    </tr>\n",
              "  </thead>\n",
              "  <tbody>\n",
              "    <tr>\n",
              "      <th rowspan=\"2\" valign=\"top\">Valor real</th>\n",
              "      <th>Failed</th>\n",
              "      <td>56274</td>\n",
              "      <td>3009</td>\n",
              "    </tr>\n",
              "    <tr>\n",
              "      <th>Successful</th>\n",
              "      <td>3133</td>\n",
              "      <td>37862</td>\n",
              "    </tr>\n",
              "  </tbody>\n",
              "</table>\n",
              "</div>\n",
              "      <button class=\"colab-df-convert\" onclick=\"convertToInteractive('df-b40a6353-55ce-483e-a73e-4e5ca6402081')\"\n",
              "              title=\"Convert this dataframe to an interactive table.\"\n",
              "              style=\"display:none;\">\n",
              "        \n",
              "  <svg xmlns=\"http://www.w3.org/2000/svg\" height=\"24px\"viewBox=\"0 0 24 24\"\n",
              "       width=\"24px\">\n",
              "    <path d=\"M0 0h24v24H0V0z\" fill=\"none\"/>\n",
              "    <path d=\"M18.56 5.44l.94 2.06.94-2.06 2.06-.94-2.06-.94-.94-2.06-.94 2.06-2.06.94zm-11 1L8.5 8.5l.94-2.06 2.06-.94-2.06-.94L8.5 2.5l-.94 2.06-2.06.94zm10 10l.94 2.06.94-2.06 2.06-.94-2.06-.94-.94-2.06-.94 2.06-2.06.94z\"/><path d=\"M17.41 7.96l-1.37-1.37c-.4-.4-.92-.59-1.43-.59-.52 0-1.04.2-1.43.59L10.3 9.45l-7.72 7.72c-.78.78-.78 2.05 0 2.83L4 21.41c.39.39.9.59 1.41.59.51 0 1.02-.2 1.41-.59l7.78-7.78 2.81-2.81c.8-.78.8-2.07 0-2.86zM5.41 20L4 18.59l7.72-7.72 1.47 1.35L5.41 20z\"/>\n",
              "  </svg>\n",
              "      </button>\n",
              "      \n",
              "  <style>\n",
              "    .colab-df-container {\n",
              "      display:flex;\n",
              "      flex-wrap:wrap;\n",
              "      gap: 12px;\n",
              "    }\n",
              "\n",
              "    .colab-df-convert {\n",
              "      background-color: #E8F0FE;\n",
              "      border: none;\n",
              "      border-radius: 50%;\n",
              "      cursor: pointer;\n",
              "      display: none;\n",
              "      fill: #1967D2;\n",
              "      height: 32px;\n",
              "      padding: 0 0 0 0;\n",
              "      width: 32px;\n",
              "    }\n",
              "\n",
              "    .colab-df-convert:hover {\n",
              "      background-color: #E2EBFA;\n",
              "      box-shadow: 0px 1px 2px rgba(60, 64, 67, 0.3), 0px 1px 3px 1px rgba(60, 64, 67, 0.15);\n",
              "      fill: #174EA6;\n",
              "    }\n",
              "\n",
              "    [theme=dark] .colab-df-convert {\n",
              "      background-color: #3B4455;\n",
              "      fill: #D2E3FC;\n",
              "    }\n",
              "\n",
              "    [theme=dark] .colab-df-convert:hover {\n",
              "      background-color: #434B5C;\n",
              "      box-shadow: 0px 1px 3px 1px rgba(0, 0, 0, 0.15);\n",
              "      filter: drop-shadow(0px 1px 2px rgba(0, 0, 0, 0.3));\n",
              "      fill: #FFFFFF;\n",
              "    }\n",
              "  </style>\n",
              "\n",
              "      <script>\n",
              "        const buttonEl =\n",
              "          document.querySelector('#df-b40a6353-55ce-483e-a73e-4e5ca6402081 button.colab-df-convert');\n",
              "        buttonEl.style.display =\n",
              "          google.colab.kernel.accessAllowed ? 'block' : 'none';\n",
              "\n",
              "        async function convertToInteractive(key) {\n",
              "          const element = document.querySelector('#df-b40a6353-55ce-483e-a73e-4e5ca6402081');\n",
              "          const dataTable =\n",
              "            await google.colab.kernel.invokeFunction('convertToInteractive',\n",
              "                                                     [key], {});\n",
              "          if (!dataTable) return;\n",
              "\n",
              "          const docLinkHtml = 'Like what you see? Visit the ' +\n",
              "            '<a target=\"_blank\" href=https://colab.research.google.com/notebooks/data_table.ipynb>data table notebook</a>'\n",
              "            + ' to learn more about interactive tables.';\n",
              "          element.innerHTML = '';\n",
              "          dataTable['output_type'] = 'display_data';\n",
              "          await google.colab.output.renderOutput(dataTable, element);\n",
              "          const docLink = document.createElement('div');\n",
              "          docLink.innerHTML = docLinkHtml;\n",
              "          element.appendChild(docLink);\n",
              "        }\n",
              "      </script>\n",
              "    </div>\n",
              "  </div>\n",
              "  "
            ],
            "text/plain": [
              "                      Valor predicho           \n",
              "                              Failed Successful\n",
              "Valor real Failed              56274       3009\n",
              "           Successful           3133      37862"
            ]
          },
          "execution_count": 26,
          "metadata": {},
          "output_type": "execute_result"
        }
      ],
      "source": [
        "# Se construye la variable que contiene las etiquetas predichas por el modelo\n",
        "y_predt = grid_clf_nn.predict(X_test)\n",
        "\n",
        "# Se visualiza la matriz de confusión\n",
        "cm = confusion_matrix(y_test, y_predt)\n",
        "classes = project_df['State'].unique()\n",
        "show_cm(cm, classes)"
      ]
    },
    {
      "cell_type": "code",
      "execution_count": null,
      "metadata": {
        "colab": {
          "base_uri": "https://localhost:8080/"
        },
        "id": "bvbo-zcBNaOU",
        "outputId": "9a8fa22a-78c3-498e-8f62-52d943fc964d"
      },
      "outputs": [
        {
          "name": "stdout",
          "output_type": "stream",
          "text": [
            "              precision    recall  f1-score   support\n",
            "\n",
            "      Failed     0.9473    0.9492    0.9483     59283\n",
            "  Successful     0.9264    0.9236    0.9250     40995\n",
            "\n",
            "    accuracy                         0.9388    100278\n",
            "   macro avg     0.9368    0.9364    0.9366    100278\n",
            "weighted avg     0.9387    0.9388    0.9387    100278\n",
            "\n"
          ]
        }
      ],
      "source": [
        "# Se imprime el reporte de métricas de desempeño del modelo\n",
        "print(classification_report(y_test,    \n",
        "                            y_predt,                                \n",
        "                            target_names = classes,  \n",
        "                            digits=4))"
      ]
    },
    {
      "cell_type": "markdown",
      "metadata": {
        "id": "Ol-Sul47Np3k"
      },
      "source": [
        "Como se puede apreciar en los valores obtenidos para las métricas, en esta ocasión el modelo empeoró en la clasificación de los nuevos ejemplos con respecto al modelo empleado con variables numéricas sin escalar, además de que para el proceso de búsqueda de hiperparámetros el modelo con las variables numéricas escaladas tardó 1 hora y 20 minutos, mientras que el modelo con las variables numéricas sin escalar solo tardo 16 minutos. Se puede concluir entonces, que este caso particular, el hecho de escalar las variables numéricas desmejoró el desempeño del modelo, además de empeorar su desempeño computacionalmente, al requerir más tiempo para finalizar su proceso de búsqueda de hiperparámetros y entrenamiento.\n",
        "\n",
        "En comparación con el método de bosques aleatorios, el método de redes neuronales evaluado en variables numéricas sin escalar, mejoró las métricas de desempeño obtenidas inicialmente, y empleó menor tiempo para culminar las fases de búsqueda de hiperparámetros y entrenamiento con respecto al método de bosques aleatororios, que tardó alrededor de 35 minutos en terminar. Así pues, se puede concluir que el método de redes neuronales obtuvo mejores resultados para el proceso de clasificación de los proyectos de la plataforma de crowdfunding y empleó menos tiempo en ejecutar los complejos procesos de búsqueda de hiperparámetros, entrenamiento y prueba."
      ]
    },
    {
      "cell_type": "markdown",
      "metadata": {
        "id": "37zhL95KzlXW"
      },
      "source": [
        "# **7. Métodos no supervisados de agrupación**\n",
        "---\n",
        "\n",
        "Realizamos una prueba con un modelo de aprendizaje no supervisado por agrupamiento (k-means) donde estaremos intentando predecir si es posible determinar que ciertos grupos (clusters) predomine una unica etiqueta externa (1 o 0, siendo 1 \"Successful\" y 0 representa \"failed\")"
      ]
    },
    {
      "cell_type": "code",
      "execution_count": null,
      "metadata": {
        "id": "y7xYWDXyQUoO"
      },
      "outputs": [],
      "source": [
        "# Librerias\n",
        "from sklearn.cluster import KMeans\n",
        "from sklearn.metrics import *\n",
        "from sklearn.metrics.cluster import contingency_matrix"
      ]
    },
    {
      "cell_type": "markdown",
      "metadata": {
        "id": "fJiYbWp8QZ6_"
      },
      "source": [
        "Inicialmente definimos las funciones que se utilizarán para las evaluaciones internas y externas de este método."
      ]
    },
    {
      "cell_type": "code",
      "execution_count": null,
      "metadata": {
        "id": "EAf0RCHgQeaw"
      },
      "outputs": [],
      "source": [
        "# gráfica para la evaluación interna\n",
        "\n",
        "def plot_metric(K, scores, metric_name):\n",
        "  plt.figure(dpi=110, figsize=(9, 5))\n",
        "  plt.plot(K, scores, 'bx-')\n",
        "  plt.xticks(K); plt.xlabel('$k$', fontdict=dict(family = 'serif', size = 14));  plt.ylabel(metric_name, fontdict=dict(family = 'serif', size = 14));\n",
        "  plt.title(f'K vs {metric_name}', fontdict=dict(family = 'serif', size = 18))\n",
        "  plt.show()"
      ]
    },
    {
      "cell_type": "code",
      "execution_count": null,
      "metadata": {
        "id": "0e1si0UTQfy2"
      },
      "outputs": [],
      "source": [
        "# gráfica para la evaluación externa\n",
        "\n",
        "def plot_extern_metric(X, y, metric, metric_name):\n",
        "  scores = []\n",
        "  for i in range(2,20):\n",
        "    model = KMeans(n_clusters=i, random_state=32)\n",
        "    model.fit(X)\n",
        "    y_pred = model.predict(X)\n",
        "    scores.append(metric(y, y_pred))\n",
        "\n",
        "  plot_metric(range(2, 20), scores, metric_name)  "
      ]
    },
    {
      "cell_type": "markdown",
      "metadata": {
        "id": "VEThjQD7z1k2"
      },
      "source": [
        "## **7.1 Evaluación interna**\n",
        "\n",
        "En primer lugar se muestra la inercia en función de la cantidad de clusters para encontrar la cantidad óptima de de grupos. También se prueba genereción de la gráfica del coeficiente de silueta, sin embargo debido al gran costo computacional que representa se descarto la opción para el analisis."
      ]
    },
    {
      "cell_type": "code",
      "execution_count": null,
      "metadata": {
        "colab": {
          "base_uri": "https://localhost:8080/",
          "height": 544
        },
        "id": "zlxY7d8oRCCI",
        "outputId": "109a4627-930f-4a29-fee8-a289aedeabc2"
      },
      "outputs": [
        {
          "data": {
            "image/png": "[encoded data removed]",
            "text/plain": [
              "<Figure size 990x550 with 1 Axes>"
            ]
          },
          "metadata": {},
          "output_type": "display_data"
        }
      ],
      "source": [
        "inertia = []\n",
        "silhouette = []\n",
        "K = range(2, 15)\n",
        "for i in K:\n",
        "  model = KMeans(n_clusters=i)\n",
        "  model.fit(X_preprocessed)\n",
        "\n",
        "  y_predict = model.predict(X_preprocessed)\n",
        "\n",
        "  inertia.append(model.inertia_)\n",
        "  # silhouette.append(silhouette_score(X_preprocessed, y_predict))\n",
        "  \n",
        "\n",
        "plot_metric(K, inertia, 'Inercia')\n",
        "# plot_metric(K, silhouette, 'Coeficiente de silueta')"
      ]
    },
    {
      "cell_type": "markdown",
      "metadata": {
        "id": "oHJys7IfRLQR"
      },
      "source": [
        "De acuerdo con la evaluación interna, la cantidad optima de cluster se encuentra entre k=5 y k=6. Se continua explorando con evaluaciones externas para validar los resultados sin tener en cuenta los resultados reales del modelo."
      ]
    },
    {
      "cell_type": "markdown",
      "metadata": {
        "id": "By7CaGdARZFP"
      },
      "source": [
        "## **7.2 Evaluación externa (supervisado)**\n",
        "\n",
        "Para la evaluación externa se realizan las gráficas de homogeneidad, información mutua y el indice de Rand ajustado. A partir de los valores máximos, o los picos, de estas gráficas se puede estimar de una forma más segura la cantidad de clusters recomendados para el análisis. "
      ]
    },
    {
      "cell_type": "code",
      "execution_count": null,
      "metadata": {
        "colab": {
          "base_uri": "https://localhost:8080/",
          "height": 544
        },
        "id": "VRz6qoGPRl4l",
        "outputId": "4c2ceb13-0fcf-4abd-9a35-e707face04d3"
      },
      "outputs": [
        {
          "data": {
            "image/png": "[encoded data removed]",
            "text/plain": [
              "<Figure size 990x550 with 1 Axes>"
            ]
          },
          "metadata": {},
          "output_type": "display_data"
        }
      ],
      "source": [
        "plot_extern_metric(X_preprocessed, y_preprocessed, homogeneity_score, 'Homogeneidad')"
      ]
    },
    {
      "cell_type": "code",
      "execution_count": null,
      "metadata": {
        "colab": {
          "base_uri": "https://localhost:8080/",
          "height": 544
        },
        "id": "5ASbOy8eRs7N",
        "outputId": "22d9ee2c-06bf-4260-d80b-e9b897c442db"
      },
      "outputs": [
        {
          "data": {
            "image/png": "[encoded data removed]",
            "text/plain": [
              "<Figure size 990x550 with 1 Axes>"
            ]
          },
          "metadata": {},
          "output_type": "display_data"
        }
      ],
      "source": [
        "plot_extern_metric(X_preprocessed, y_preprocessed,\n",
        "            mutual_info_score, 'Información mutua')"
      ]
    },
    {
      "cell_type": "code",
      "execution_count": null,
      "metadata": {
        "colab": {
          "base_uri": "https://localhost:8080/",
          "height": 549
        },
        "id": "aLvS4zbLRwlL",
        "outputId": "f938dc24-dc70-4ae7-c867-5b27c293b054"
      },
      "outputs": [
        {
          "data": {
            "image/png": "[encoded data removed]",
            "text/plain": [
              "<Figure size 990x550 with 1 Axes>"
            ]
          },
          "metadata": {},
          "output_type": "display_data"
        }
      ],
      "source": [
        "plot_extern_metric(X_preprocessed, y_preprocessed,\n",
        "            adjusted_rand_score, 'Índice de Rand ajustado')"
      ]
    },
    {
      "cell_type": "markdown",
      "metadata": {
        "id": "1W6gFkiFR1jt"
      },
      "source": [
        "De acuerdo a las gráficas de homogeneidad e información mutua, la cantidad recomendada de grupos de k = 9 o k = 10, aunque no son del todo determinantes puesto que no son un máximo absoluto sino uno relativo. Sin embargo, en la gráfica del indice de Rand se puede evidenciar que con k = 11 clusters, se máximiza este indice. Por esta razón, y puesto que la evaluación externa es más determinante, la cantidad de cluster de mayor confianza será k=11."
      ]
    },
    {
      "cell_type": "markdown",
      "metadata": {
        "id": "ye-EH96hR7RV"
      },
      "source": [
        "## **7.3 Matrices de contigencia**\n",
        "\n",
        "Mediante las siguientes funciones podremos evaluar el modelo k-means para nuestro set de datos. Las funciones a continuación son para la realización de una matriz de contingencia para comparar los clusters contra las etiquetas reales, la siguente muestra la probabilidad de exito en cada uno de los clusters, y la ultima nos ayuda para mostrar y entener los centroides de cada grupo."
      ]
    },
    {
      "cell_type": "code",
      "execution_count": null,
      "metadata": {
        "id": "LcVzghzCSEtn"
      },
      "outputs": [],
      "source": [
        "def show_contigency_matrix(X, y, n_clusters, classes):\n",
        "  # Fijamos la semilla aleatoria para obtener resultados reproducibles.\n",
        "  model = KMeans(n_clusters, random_state = 21)\n",
        "  model.fit(X)\n",
        "  y_pred = model.predict(X)\n",
        "  mat = contingency_matrix(y, y_pred)\n",
        "  columns = ['Cluster ' + str(i) for i in range(n_clusters)]\n",
        "  \n",
        "  # Se retorna cómo un DataFrame de Pandas para mejorar la visualización.\n",
        "  return pd.DataFrame(mat, columns=columns, index=classes)"
      ]
    },
    {
      "cell_type": "code",
      "execution_count": null,
      "metadata": {
        "id": "dRpoeUsNSItU"
      },
      "outputs": [],
      "source": [
        "def show_successful_ratios(X, y, k):\n",
        "  model = KMeans(n_clusters=k,random_state = 21)\n",
        "  model.fit(X_preprocessed)\n",
        "\n",
        "  y_pred = model.predict(X)\n",
        " \n",
        "  for i in range(k):\n",
        "    ids_group = y_pred == i\n",
        "    labels_group = y[ids_group]\n",
        "\n",
        "    # Calculamos la proporción como la media, pues consiste en valores con 0 y 1.    \n",
        "    success_ratio = np.round(np.mean(labels_group), 5)\n",
        "    print(f'Proporción de successful grupo {i}: {success_ratio}')"
      ]
    },
    {
      "cell_type": "code",
      "execution_count": null,
      "metadata": {
        "id": "fbztlbuzSSVZ"
      },
      "outputs": [],
      "source": [
        "def show_centroids(X, k, tf):\n",
        "  model = KMeans(n_clusters=k, random_state=21)\n",
        "  model.fit(X)\n",
        "\n",
        "  scaler = tf.named_transformers_['scaler']\n",
        "  centroids = []\n",
        "\n",
        "  for centroid in model.cluster_centers_:\n",
        "    centroid_copy = centroid.copy()\n",
        "    centroid_copy[37:] = scaler.inverse_transform([centroid_copy[37:]])\n",
        "    centroids.append(np.round(centroid_copy, 5))\n",
        "  \n",
        "  # Definimos una lista con los nombres de las columnas correspondientes.\n",
        "  columns = ['Fashion', 'Film & Video', 'Art', 'Technology', 'Journalism', 'Publishing',\n",
        " 'Music', 'Photography', 'Games', 'Design', 'Theater', 'Crafts', 'Comics', 'Food',\n",
        " 'Dance','United States', 'United Kingdom', 'Canada', 'Australia', 'New Zealand',\n",
        " 'Netherlands ', 'Sweden', 'Denmark', 'Norway', 'Ireland', 'Germany', 'France',\n",
        " 'Spain', 'Belgium', 'Italy', 'Switzerland', 'Austria', 'Luxembourg',\n",
        " 'Singapore', 'Hong Kong', 'Mexico', 'Japan','Goal','Pledged','Backers']\n",
        "\n",
        "\n",
        "  \n",
        "  # retornamos un DataFrame\n",
        "  return pd.DataFrame(centroids, columns=columns)"
      ]
    },
    {
      "cell_type": "markdown",
      "metadata": {
        "id": "Rxaea1TVSZQX"
      },
      "source": [
        "Se hará una exploración de los resultados de los modelos entrenados para k=5, k=6, k=9, k=10 y k=11.Sin embargo solo se profundiza en la evaluación de k=11 puesto que fue aquel seleccionado según el indice de Rand."
      ]
    },
    {
      "cell_type": "markdown",
      "metadata": {
        "id": "CzjzPTaXSfgG"
      },
      "source": [
        "**k=5**"
      ]
    },
    {
      "cell_type": "code",
      "execution_count": null,
      "metadata": {
        "colab": {
          "base_uri": "https://localhost:8080/",
          "height": 112
        },
        "id": "wcG6-o5KSt3U",
        "outputId": "43932c53-a640-423a-b804-4cb367f8ca68"
      },
      "outputs": [
        {
          "data": {
            "text/html": [
              "\n",
              "  <div id=\"df-0d8ff08e-4f49-4d94-be59-30cbc9618200\">\n",
              "    <div class=\"colab-df-container\">\n",
              "      <div>\n",
              "<style scoped>\n",
              "    .dataframe tbody tr th:only-of-type {\n",
              "        vertical-align: middle;\n",
              "    }\n",
              "\n",
              "    .dataframe tbody tr th {\n",
              "        vertical-align: top;\n",
              "    }\n",
              "\n",
              "    .dataframe thead th {\n",
              "        text-align: right;\n",
              "    }\n",
              "</style>\n",
              "<table border=\"1\" class=\"dataframe\">\n",
              "  <thead>\n",
              "    <tr style=\"text-align: right;\">\n",
              "      <th></th>\n",
              "      <th>Cluster 0</th>\n",
              "      <th>Cluster 1</th>\n",
              "      <th>Cluster 2</th>\n",
              "      <th>Cluster 3</th>\n",
              "      <th>Cluster 4</th>\n",
              "    </tr>\n",
              "  </thead>\n",
              "  <tbody>\n",
              "    <tr>\n",
              "      <th>0</th>\n",
              "      <td>45541</td>\n",
              "      <td>152020</td>\n",
              "      <td>2</td>\n",
              "      <td>0</td>\n",
              "      <td>48</td>\n",
              "    </tr>\n",
              "    <tr>\n",
              "      <th>1</th>\n",
              "      <td>25542</td>\n",
              "      <td>110508</td>\n",
              "      <td>572</td>\n",
              "      <td>26</td>\n",
              "      <td>1</td>\n",
              "    </tr>\n",
              "  </tbody>\n",
              "</table>\n",
              "</div>\n",
              "      <button class=\"colab-df-convert\" onclick=\"convertToInteractive('df-0d8ff08e-4f49-4d94-be59-30cbc9618200')\"\n",
              "              title=\"Convert this dataframe to an interactive table.\"\n",
              "              style=\"display:none;\">\n",
              "        \n",
              "  <svg xmlns=\"http://www.w3.org/2000/svg\" height=\"24px\"viewBox=\"0 0 24 24\"\n",
              "       width=\"24px\">\n",
              "    <path d=\"M0 0h24v24H0V0z\" fill=\"none\"/>\n",
              "    <path d=\"M18.56 5.44l.94 2.06.94-2.06 2.06-.94-2.06-.94-.94-2.06-.94 2.06-2.06.94zm-11 1L8.5 8.5l.94-2.06 2.06-.94-2.06-.94L8.5 2.5l-.94 2.06-2.06.94zm10 10l.94 2.06.94-2.06 2.06-.94-2.06-.94-.94-2.06-.94 2.06-2.06.94z\"/><path d=\"M17.41 7.96l-1.37-1.37c-.4-.4-.92-.59-1.43-.59-.52 0-1.04.2-1.43.59L10.3 9.45l-7.72 7.72c-.78.78-.78 2.05 0 2.83L4 21.41c.39.39.9.59 1.41.59.51 0 1.02-.2 1.41-.59l7.78-7.78 2.81-2.81c.8-.78.8-2.07 0-2.86zM5.41 20L4 18.59l7.72-7.72 1.47 1.35L5.41 20z\"/>\n",
              "  </svg>\n",
              "      </button>\n",
              "      \n",
              "  <style>\n",
              "    .colab-df-container {\n",
              "      display:flex;\n",
              "      flex-wrap:wrap;\n",
              "      gap: 12px;\n",
              "    }\n",
              "\n",
              "    .colab-df-convert {\n",
              "      background-color: #E8F0FE;\n",
              "      border: none;\n",
              "      border-radius: 50%;\n",
              "      cursor: pointer;\n",
              "      display: none;\n",
              "      fill: #1967D2;\n",
              "      height: 32px;\n",
              "      padding: 0 0 0 0;\n",
              "      width: 32px;\n",
              "    }\n",
              "\n",
              "    .colab-df-convert:hover {\n",
              "      background-color: #E2EBFA;\n",
              "      box-shadow: 0px 1px 2px rgba(60, 64, 67, 0.3), 0px 1px 3px 1px rgba(60, 64, 67, 0.15);\n",
              "      fill: #174EA6;\n",
              "    }\n",
              "\n",
              "    [theme=dark] .colab-df-convert {\n",
              "      background-color: #3B4455;\n",
              "      fill: #D2E3FC;\n",
              "    }\n",
              "\n",
              "    [theme=dark] .colab-df-convert:hover {\n",
              "      background-color: #434B5C;\n",
              "      box-shadow: 0px 1px 3px 1px rgba(0, 0, 0, 0.15);\n",
              "      filter: drop-shadow(0px 1px 2px rgba(0, 0, 0, 0.3));\n",
              "      fill: #FFFFFF;\n",
              "    }\n",
              "  </style>\n",
              "\n",
              "      <script>\n",
              "        const buttonEl =\n",
              "          document.querySelector('#df-0d8ff08e-4f49-4d94-be59-30cbc9618200 button.colab-df-convert');\n",
              "        buttonEl.style.display =\n",
              "          google.colab.kernel.accessAllowed ? 'block' : 'none';\n",
              "\n",
              "        async function convertToInteractive(key) {\n",
              "          const element = document.querySelector('#df-0d8ff08e-4f49-4d94-be59-30cbc9618200');\n",
              "          const dataTable =\n",
              "            await google.colab.kernel.invokeFunction('convertToInteractive',\n",
              "                                                     [key], {});\n",
              "          if (!dataTable) return;\n",
              "\n",
              "          const docLinkHtml = 'Like what you see? Visit the ' +\n",
              "            '<a target=\"_blank\" href=https://colab.research.google.com/notebooks/data_table.ipynb>data table notebook</a>'\n",
              "            + ' to learn more about interactive tables.';\n",
              "          element.innerHTML = '';\n",
              "          dataTable['output_type'] = 'display_data';\n",
              "          await google.colab.output.renderOutput(dataTable, element);\n",
              "          const docLink = document.createElement('div');\n",
              "          docLink.innerHTML = docLinkHtml;\n",
              "          element.appendChild(docLink);\n",
              "        }\n",
              "      </script>\n",
              "    </div>\n",
              "  </div>\n",
              "  "
            ],
            "text/plain": [
              "   Cluster 0  Cluster 1  Cluster 2  Cluster 3  Cluster 4\n",
              "0      45541     152020          2          0         48\n",
              "1      25542     110508        572         26          1"
            ]
          },
          "execution_count": 62,
          "metadata": {},
          "output_type": "execute_result"
        }
      ],
      "source": [
        "show_contigency_matrix(X_preprocessed, y_preprocessed, 5, [0,1])"
      ]
    },
    {
      "cell_type": "code",
      "execution_count": null,
      "metadata": {
        "colab": {
          "base_uri": "https://localhost:8080/"
        },
        "id": "DZYkWM7wSyV0",
        "outputId": "d9888637-9c38-4061-8a35-d04a55e92e5c"
      },
      "outputs": [
        {
          "name": "stdout",
          "output_type": "stream",
          "text": [
            "Proporción de successful grupo 0: 0.35933\n",
            "Proporción de successful grupo 1: 0.42094\n",
            "Proporción de successful grupo 2: 0.99652\n",
            "Proporción de successful grupo 3: 1.0\n",
            "Proporción de successful grupo 4: 0.02041\n"
          ]
        }
      ],
      "source": [
        "show_successful_ratios(X_preprocessed, y_preprocessed, 5)"
      ]
    },
    {
      "cell_type": "markdown",
      "metadata": {
        "id": "oypmOChJS45h"
      },
      "source": [
        "**k = 6**"
      ]
    },
    {
      "cell_type": "code",
      "execution_count": null,
      "metadata": {
        "colab": {
          "base_uri": "https://localhost:8080/",
          "height": 112
        },
        "id": "hTaXkdDGS5xV",
        "outputId": "f5f3d75d-c428-4c7e-c25e-84f4cafbed43"
      },
      "outputs": [
        {
          "data": {
            "text/html": [
              "\n",
              "  <div id=\"df-050648e0-8a8b-4df9-a4b6-decb0d79377f\">\n",
              "    <div class=\"colab-df-container\">\n",
              "      <div>\n",
              "<style scoped>\n",
              "    .dataframe tbody tr th:only-of-type {\n",
              "        vertical-align: middle;\n",
              "    }\n",
              "\n",
              "    .dataframe tbody tr th {\n",
              "        vertical-align: top;\n",
              "    }\n",
              "\n",
              "    .dataframe thead th {\n",
              "        text-align: right;\n",
              "    }\n",
              "</style>\n",
              "<table border=\"1\" class=\"dataframe\">\n",
              "  <thead>\n",
              "    <tr style=\"text-align: right;\">\n",
              "      <th></th>\n",
              "      <th>Cluster 0</th>\n",
              "      <th>Cluster 1</th>\n",
              "      <th>Cluster 2</th>\n",
              "      <th>Cluster 3</th>\n",
              "      <th>Cluster 4</th>\n",
              "      <th>Cluster 5</th>\n",
              "    </tr>\n",
              "  </thead>\n",
              "  <tbody>\n",
              "    <tr>\n",
              "      <th>0</th>\n",
              "      <td>152003</td>\n",
              "      <td>0</td>\n",
              "      <td>48</td>\n",
              "      <td>45537</td>\n",
              "      <td>0</td>\n",
              "      <td>23</td>\n",
              "    </tr>\n",
              "    <tr>\n",
              "      <th>1</th>\n",
              "      <td>109543</td>\n",
              "      <td>21</td>\n",
              "      <td>1</td>\n",
              "      <td>25327</td>\n",
              "      <td>111</td>\n",
              "      <td>1646</td>\n",
              "    </tr>\n",
              "  </tbody>\n",
              "</table>\n",
              "</div>\n",
              "      <button class=\"colab-df-convert\" onclick=\"convertToInteractive('df-050648e0-8a8b-4df9-a4b6-decb0d79377f')\"\n",
              "              title=\"Convert this dataframe to an interactive table.\"\n",
              "              style=\"display:none;\">\n",
              "        \n",
              "  <svg xmlns=\"http://www.w3.org/2000/svg\" height=\"24px\"viewBox=\"0 0 24 24\"\n",
              "       width=\"24px\">\n",
              "    <path d=\"M0 0h24v24H0V0z\" fill=\"none\"/>\n",
              "    <path d=\"M18.56 5.44l.94 2.06.94-2.06 2.06-.94-2.06-.94-.94-2.06-.94 2.06-2.06.94zm-11 1L8.5 8.5l.94-2.06 2.06-.94-2.06-.94L8.5 2.5l-.94 2.06-2.06.94zm10 10l.94 2.06.94-2.06 2.06-.94-2.06-.94-.94-2.06-.94 2.06-2.06.94z\"/><path d=\"M17.41 7.96l-1.37-1.37c-.4-.4-.92-.59-1.43-.59-.52 0-1.04.2-1.43.59L10.3 9.45l-7.72 7.72c-.78.78-.78 2.05 0 2.83L4 21.41c.39.39.9.59 1.41.59.51 0 1.02-.2 1.41-.59l7.78-7.78 2.81-2.81c.8-.78.8-2.07 0-2.86zM5.41 20L4 18.59l7.72-7.72 1.47 1.35L5.41 20z\"/>\n",
              "  </svg>\n",
              "      </button>\n",
              "      \n",
              "  <style>\n",
              "    .colab-df-container {\n",
              "      display:flex;\n",
              "      flex-wrap:wrap;\n",
              "      gap: 12px;\n",
              "    }\n",
              "\n",
              "    .colab-df-convert {\n",
              "      background-color: #E8F0FE;\n",
              "      border: none;\n",
              "      border-radius: 50%;\n",
              "      cursor: pointer;\n",
              "      display: none;\n",
              "      fill: #1967D2;\n",
              "      height: 32px;\n",
              "      padding: 0 0 0 0;\n",
              "      width: 32px;\n",
              "    }\n",
              "\n",
              "    .colab-df-convert:hover {\n",
              "      background-color: #E2EBFA;\n",
              "      box-shadow: 0px 1px 2px rgba(60, 64, 67, 0.3), 0px 1px 3px 1px rgba(60, 64, 67, 0.15);\n",
              "      fill: #174EA6;\n",
              "    }\n",
              "\n",
              "    [theme=dark] .colab-df-convert {\n",
              "      background-color: #3B4455;\n",
              "      fill: #D2E3FC;\n",
              "    }\n",
              "\n",
              "    [theme=dark] .colab-df-convert:hover {\n",
              "      background-color: #434B5C;\n",
              "      box-shadow: 0px 1px 3px 1px rgba(0, 0, 0, 0.15);\n",
              "      filter: drop-shadow(0px 1px 2px rgba(0, 0, 0, 0.3));\n",
              "      fill: #FFFFFF;\n",
              "    }\n",
              "  </style>\n",
              "\n",
              "      <script>\n",
              "        const buttonEl =\n",
              "          document.querySelector('#df-050648e0-8a8b-4df9-a4b6-decb0d79377f button.colab-df-convert');\n",
              "        buttonEl.style.display =\n",
              "          google.colab.kernel.accessAllowed ? 'block' : 'none';\n",
              "\n",
              "        async function convertToInteractive(key) {\n",
              "          const element = document.querySelector('#df-050648e0-8a8b-4df9-a4b6-decb0d79377f');\n",
              "          const dataTable =\n",
              "            await google.colab.kernel.invokeFunction('convertToInteractive',\n",
              "                                                     [key], {});\n",
              "          if (!dataTable) return;\n",
              "\n",
              "          const docLinkHtml = 'Like what you see? Visit the ' +\n",
              "            '<a target=\"_blank\" href=https://colab.research.google.com/notebooks/data_table.ipynb>data table notebook</a>'\n",
              "            + ' to learn more about interactive tables.';\n",
              "          element.innerHTML = '';\n",
              "          dataTable['output_type'] = 'display_data';\n",
              "          await google.colab.output.renderOutput(dataTable, element);\n",
              "          const docLink = document.createElement('div');\n",
              "          docLink.innerHTML = docLinkHtml;\n",
              "          element.appendChild(docLink);\n",
              "        }\n",
              "      </script>\n",
              "    </div>\n",
              "  </div>\n",
              "  "
            ],
            "text/plain": [
              "   Cluster 0  Cluster 1  Cluster 2  Cluster 3  Cluster 4  Cluster 5\n",
              "0     152003          0         48      45537          0         23\n",
              "1     109543         21          1      25327        111       1646"
            ]
          },
          "execution_count": 64,
          "metadata": {},
          "output_type": "execute_result"
        }
      ],
      "source": [
        "show_contigency_matrix(X_preprocessed, y_preprocessed, 6, [0,1])"
      ]
    },
    {
      "cell_type": "code",
      "execution_count": null,
      "metadata": {
        "colab": {
          "base_uri": "https://localhost:8080/"
        },
        "id": "jv-7VR-6S_3S",
        "outputId": "906d6a60-f1b9-4730-d9a8-eee54f3498bd"
      },
      "outputs": [
        {
          "name": "stdout",
          "output_type": "stream",
          "text": [
            "Proporción de successful grupo 0: 0.41883\n",
            "Proporción de successful grupo 1: 1.0\n",
            "Proporción de successful grupo 2: 0.02041\n",
            "Proporción de successful grupo 3: 0.3574\n",
            "Proporción de successful grupo 4: 1.0\n",
            "Proporción de successful grupo 5: 0.98622\n"
          ]
        }
      ],
      "source": [
        "show_successful_ratios(X_preprocessed, y_preprocessed, 6)"
      ]
    },
    {
      "cell_type": "markdown",
      "metadata": {
        "id": "RG_zUAJnTA7B"
      },
      "source": [
        "**k = 9**"
      ]
    },
    {
      "cell_type": "code",
      "execution_count": null,
      "metadata": {
        "colab": {
          "base_uri": "https://localhost:8080/",
          "height": 112
        },
        "id": "Q4ILPcbVTIkQ",
        "outputId": "c4b99ea0-07c9-43cc-9c33-414cd6f63e8f"
      },
      "outputs": [
        {
          "data": {
            "text/html": [
              "\n",
              "  <div id=\"df-d7ced5e9-967e-400d-a077-df687833c9b9\">\n",
              "    <div class=\"colab-df-container\">\n",
              "      <div>\n",
              "<style scoped>\n",
              "    .dataframe tbody tr th:only-of-type {\n",
              "        vertical-align: middle;\n",
              "    }\n",
              "\n",
              "    .dataframe tbody tr th {\n",
              "        vertical-align: top;\n",
              "    }\n",
              "\n",
              "    .dataframe thead th {\n",
              "        text-align: right;\n",
              "    }\n",
              "</style>\n",
              "<table border=\"1\" class=\"dataframe\">\n",
              "  <thead>\n",
              "    <tr style=\"text-align: right;\">\n",
              "      <th></th>\n",
              "      <th>Cluster 0</th>\n",
              "      <th>Cluster 1</th>\n",
              "      <th>Cluster 2</th>\n",
              "      <th>Cluster 3</th>\n",
              "      <th>Cluster 4</th>\n",
              "      <th>Cluster 5</th>\n",
              "      <th>Cluster 6</th>\n",
              "      <th>Cluster 7</th>\n",
              "      <th>Cluster 8</th>\n",
              "    </tr>\n",
              "  </thead>\n",
              "  <tbody>\n",
              "    <tr>\n",
              "      <th>0</th>\n",
              "      <td>29092</td>\n",
              "      <td>0</td>\n",
              "      <td>48</td>\n",
              "      <td>0</td>\n",
              "      <td>41656</td>\n",
              "      <td>106355</td>\n",
              "      <td>0</td>\n",
              "      <td>28</td>\n",
              "      <td>20432</td>\n",
              "    </tr>\n",
              "    <tr>\n",
              "      <th>1</th>\n",
              "      <td>20874</td>\n",
              "      <td>185</td>\n",
              "      <td>1</td>\n",
              "      <td>24</td>\n",
              "      <td>23044</td>\n",
              "      <td>67331</td>\n",
              "      <td>2</td>\n",
              "      <td>2092</td>\n",
              "      <td>23096</td>\n",
              "    </tr>\n",
              "  </tbody>\n",
              "</table>\n",
              "</div>\n",
              "      <button class=\"colab-df-convert\" onclick=\"convertToInteractive('df-d7ced5e9-967e-400d-a077-df687833c9b9')\"\n",
              "              title=\"Convert this dataframe to an interactive table.\"\n",
              "              style=\"display:none;\">\n",
              "        \n",
              "  <svg xmlns=\"http://www.w3.org/2000/svg\" height=\"24px\"viewBox=\"0 0 24 24\"\n",
              "       width=\"24px\">\n",
              "    <path d=\"M0 0h24v24H0V0z\" fill=\"none\"/>\n",
              "    <path d=\"M18.56 5.44l.94 2.06.94-2.06 2.06-.94-2.06-.94-.94-2.06-.94 2.06-2.06.94zm-11 1L8.5 8.5l.94-2.06 2.06-.94-2.06-.94L8.5 2.5l-.94 2.06-2.06.94zm10 10l.94 2.06.94-2.06 2.06-.94-2.06-.94-.94-2.06-.94 2.06-2.06.94z\"/><path d=\"M17.41 7.96l-1.37-1.37c-.4-.4-.92-.59-1.43-.59-.52 0-1.04.2-1.43.59L10.3 9.45l-7.72 7.72c-.78.78-.78 2.05 0 2.83L4 21.41c.39.39.9.59 1.41.59.51 0 1.02-.2 1.41-.59l7.78-7.78 2.81-2.81c.8-.78.8-2.07 0-2.86zM5.41 20L4 18.59l7.72-7.72 1.47 1.35L5.41 20z\"/>\n",
              "  </svg>\n",
              "      </button>\n",
              "      \n",
              "  <style>\n",
              "    .colab-df-container {\n",
              "      display:flex;\n",
              "      flex-wrap:wrap;\n",
              "      gap: 12px;\n",
              "    }\n",
              "\n",
              "    .colab-df-convert {\n",
              "      background-color: #E8F0FE;\n",
              "      border: none;\n",
              "      border-radius: 50%;\n",
              "      cursor: pointer;\n",
              "      display: none;\n",
              "      fill: #1967D2;\n",
              "      height: 32px;\n",
              "      padding: 0 0 0 0;\n",
              "      width: 32px;\n",
              "    }\n",
              "\n",
              "    .colab-df-convert:hover {\n",
              "      background-color: #E2EBFA;\n",
              "      box-shadow: 0px 1px 2px rgba(60, 64, 67, 0.3), 0px 1px 3px 1px rgba(60, 64, 67, 0.15);\n",
              "      fill: #174EA6;\n",
              "    }\n",
              "\n",
              "    [theme=dark] .colab-df-convert {\n",
              "      background-color: #3B4455;\n",
              "      fill: #D2E3FC;\n",
              "    }\n",
              "\n",
              "    [theme=dark] .colab-df-convert:hover {\n",
              "      background-color: #434B5C;\n",
              "      box-shadow: 0px 1px 3px 1px rgba(0, 0, 0, 0.15);\n",
              "      filter: drop-shadow(0px 1px 2px rgba(0, 0, 0, 0.3));\n",
              "      fill: #FFFFFF;\n",
              "    }\n",
              "  </style>\n",
              "\n",
              "      <script>\n",
              "        const buttonEl =\n",
              "          document.querySelector('#df-d7ced5e9-967e-400d-a077-df687833c9b9 button.colab-df-convert');\n",
              "        buttonEl.style.display =\n",
              "          google.colab.kernel.accessAllowed ? 'block' : 'none';\n",
              "\n",
              "        async function convertToInteractive(key) {\n",
              "          const element = document.querySelector('#df-d7ced5e9-967e-400d-a077-df687833c9b9');\n",
              "          const dataTable =\n",
              "            await google.colab.kernel.invokeFunction('convertToInteractive',\n",
              "                                                     [key], {});\n",
              "          if (!dataTable) return;\n",
              "\n",
              "          const docLinkHtml = 'Like what you see? Visit the ' +\n",
              "            '<a target=\"_blank\" href=https://colab.research.google.com/notebooks/data_table.ipynb>data table notebook</a>'\n",
              "            + ' to learn more about interactive tables.';\n",
              "          element.innerHTML = '';\n",
              "          dataTable['output_type'] = 'display_data';\n",
              "          await google.colab.output.renderOutput(dataTable, element);\n",
              "          const docLink = document.createElement('div');\n",
              "          docLink.innerHTML = docLinkHtml;\n",
              "          element.appendChild(docLink);\n",
              "        }\n",
              "      </script>\n",
              "    </div>\n",
              "  </div>\n",
              "  "
            ],
            "text/plain": [
              "   Cluster 0  Cluster 1  Cluster 2  Cluster 3  Cluster 4  Cluster 5  \\\n",
              "0      29092          0         48          0      41656     106355   \n",
              "1      20874        185          1         24      23044      67331   \n",
              "\n",
              "   Cluster 6  Cluster 7  Cluster 8  \n",
              "0          0         28      20432  \n",
              "1          2       2092      23096  "
            ]
          },
          "execution_count": 66,
          "metadata": {},
          "output_type": "execute_result"
        }
      ],
      "source": [
        "show_contigency_matrix(X_preprocessed, y_preprocessed, 9, [0,1])"
      ]
    },
    {
      "cell_type": "code",
      "execution_count": null,
      "metadata": {
        "colab": {
          "base_uri": "https://localhost:8080/"
        },
        "id": "vFSEf_H9TMNu",
        "outputId": "d9639ed1-5914-4043-832a-179a502688d0"
      },
      "outputs": [
        {
          "name": "stdout",
          "output_type": "stream",
          "text": [
            "Proporción de successful grupo 0: 0.41776\n",
            "Proporción de successful grupo 1: 1.0\n",
            "Proporción de successful grupo 2: 0.02041\n",
            "Proporción de successful grupo 3: 1.0\n",
            "Proporción de successful grupo 4: 0.35617\n",
            "Proporción de successful grupo 5: 0.38766\n",
            "Proporción de successful grupo 6: 1.0\n",
            "Proporción de successful grupo 7: 0.98679\n",
            "Proporción de successful grupo 8: 0.5306\n"
          ]
        }
      ],
      "source": [
        "show_successful_ratios(X_preprocessed, y_preprocessed, 9)"
      ]
    },
    {
      "cell_type": "markdown",
      "metadata": {
        "id": "DsTNP-OKTRMW"
      },
      "source": [
        "**k = 10**"
      ]
    },
    {
      "cell_type": "code",
      "execution_count": null,
      "metadata": {
        "colab": {
          "base_uri": "https://localhost:8080/",
          "height": 112
        },
        "id": "3RZoeSYBTVCu",
        "outputId": "3073dfbf-6154-4ddc-c943-b26956d5a260"
      },
      "outputs": [
        {
          "data": {
            "text/html": [
              "\n",
              "  <div id=\"df-948e34ef-7794-426e-952c-be48eaab3cf0\">\n",
              "    <div class=\"colab-df-container\">\n",
              "      <div>\n",
              "<style scoped>\n",
              "    .dataframe tbody tr th:only-of-type {\n",
              "        vertical-align: middle;\n",
              "    }\n",
              "\n",
              "    .dataframe tbody tr th {\n",
              "        vertical-align: top;\n",
              "    }\n",
              "\n",
              "    .dataframe thead th {\n",
              "        text-align: right;\n",
              "    }\n",
              "</style>\n",
              "<table border=\"1\" class=\"dataframe\">\n",
              "  <thead>\n",
              "    <tr style=\"text-align: right;\">\n",
              "      <th></th>\n",
              "      <th>Cluster 0</th>\n",
              "      <th>Cluster 1</th>\n",
              "      <th>Cluster 2</th>\n",
              "      <th>Cluster 3</th>\n",
              "      <th>Cluster 4</th>\n",
              "      <th>Cluster 5</th>\n",
              "      <th>Cluster 6</th>\n",
              "      <th>Cluster 7</th>\n",
              "      <th>Cluster 8</th>\n",
              "      <th>Cluster 9</th>\n",
              "    </tr>\n",
              "  </thead>\n",
              "  <tbody>\n",
              "    <tr>\n",
              "      <th>0</th>\n",
              "      <td>19850</td>\n",
              "      <td>0</td>\n",
              "      <td>0</td>\n",
              "      <td>31</td>\n",
              "      <td>38</td>\n",
              "      <td>44178</td>\n",
              "      <td>0</td>\n",
              "      <td>0</td>\n",
              "      <td>133450</td>\n",
              "      <td>64</td>\n",
              "    </tr>\n",
              "    <tr>\n",
              "      <th>1</th>\n",
              "      <td>22623</td>\n",
              "      <td>3</td>\n",
              "      <td>30</td>\n",
              "      <td>1</td>\n",
              "      <td>2548</td>\n",
              "      <td>24390</td>\n",
              "      <td>7</td>\n",
              "      <td>260</td>\n",
              "      <td>86787</td>\n",
              "      <td>0</td>\n",
              "    </tr>\n",
              "  </tbody>\n",
              "</table>\n",
              "</div>\n",
              "      <button class=\"colab-df-convert\" onclick=\"convertToInteractive('df-948e34ef-7794-426e-952c-be48eaab3cf0')\"\n",
              "              title=\"Convert this dataframe to an interactive table.\"\n",
              "              style=\"display:none;\">\n",
              "        \n",
              "  <svg xmlns=\"http://www.w3.org/2000/svg\" height=\"24px\"viewBox=\"0 0 24 24\"\n",
              "       width=\"24px\">\n",
              "    <path d=\"M0 0h24v24H0V0z\" fill=\"none\"/>\n",
              "    <path d=\"M18.56 5.44l.94 2.06.94-2.06 2.06-.94-2.06-.94-.94-2.06-.94 2.06-2.06.94zm-11 1L8.5 8.5l.94-2.06 2.06-.94-2.06-.94L8.5 2.5l-.94 2.06-2.06.94zm10 10l.94 2.06.94-2.06 2.06-.94-2.06-.94-.94-2.06-.94 2.06-2.06.94z\"/><path d=\"M17.41 7.96l-1.37-1.37c-.4-.4-.92-.59-1.43-.59-.52 0-1.04.2-1.43.59L10.3 9.45l-7.72 7.72c-.78.78-.78 2.05 0 2.83L4 21.41c.39.39.9.59 1.41.59.51 0 1.02-.2 1.41-.59l7.78-7.78 2.81-2.81c.8-.78.8-2.07 0-2.86zM5.41 20L4 18.59l7.72-7.72 1.47 1.35L5.41 20z\"/>\n",
              "  </svg>\n",
              "      </button>\n",
              "      \n",
              "  <style>\n",
              "    .colab-df-container {\n",
              "      display:flex;\n",
              "      flex-wrap:wrap;\n",
              "      gap: 12px;\n",
              "    }\n",
              "\n",
              "    .colab-df-convert {\n",
              "      background-color: #E8F0FE;\n",
              "      border: none;\n",
              "      border-radius: 50%;\n",
              "      cursor: pointer;\n",
              "      display: none;\n",
              "      fill: #1967D2;\n",
              "      height: 32px;\n",
              "      padding: 0 0 0 0;\n",
              "      width: 32px;\n",
              "    }\n",
              "\n",
              "    .colab-df-convert:hover {\n",
              "      background-color: #E2EBFA;\n",
              "      box-shadow: 0px 1px 2px rgba(60, 64, 67, 0.3), 0px 1px 3px 1px rgba(60, 64, 67, 0.15);\n",
              "      fill: #174EA6;\n",
              "    }\n",
              "\n",
              "    [theme=dark] .colab-df-convert {\n",
              "      background-color: #3B4455;\n",
              "      fill: #D2E3FC;\n",
              "    }\n",
              "\n",
              "    [theme=dark] .colab-df-convert:hover {\n",
              "      background-color: #434B5C;\n",
              "      box-shadow: 0px 1px 3px 1px rgba(0, 0, 0, 0.15);\n",
              "      filter: drop-shadow(0px 1px 2px rgba(0, 0, 0, 0.3));\n",
              "      fill: #FFFFFF;\n",
              "    }\n",
              "  </style>\n",
              "\n",
              "      <script>\n",
              "        const buttonEl =\n",
              "          document.querySelector('#df-948e34ef-7794-426e-952c-be48eaab3cf0 button.colab-df-convert');\n",
              "        buttonEl.style.display =\n",
              "          google.colab.kernel.accessAllowed ? 'block' : 'none';\n",
              "\n",
              "        async function convertToInteractive(key) {\n",
              "          const element = document.querySelector('#df-948e34ef-7794-426e-952c-be48eaab3cf0');\n",
              "          const dataTable =\n",
              "            await google.colab.kernel.invokeFunction('convertToInteractive',\n",
              "                                                     [key], {});\n",
              "          if (!dataTable) return;\n",
              "\n",
              "          const docLinkHtml = 'Like what you see? Visit the ' +\n",
              "            '<a target=\"_blank\" href=https://colab.research.google.com/notebooks/data_table.ipynb>data table notebook</a>'\n",
              "            + ' to learn more about interactive tables.';\n",
              "          element.innerHTML = '';\n",
              "          dataTable['output_type'] = 'display_data';\n",
              "          await google.colab.output.renderOutput(dataTable, element);\n",
              "          const docLink = document.createElement('div');\n",
              "          docLink.innerHTML = docLinkHtml;\n",
              "          element.appendChild(docLink);\n",
              "        }\n",
              "      </script>\n",
              "    </div>\n",
              "  </div>\n",
              "  "
            ],
            "text/plain": [
              "   Cluster 0  Cluster 1  Cluster 2  Cluster 3  Cluster 4  Cluster 5  \\\n",
              "0      19850          0          0         31         38      44178   \n",
              "1      22623          3         30          1       2548      24390   \n",
              "\n",
              "   Cluster 6  Cluster 7  Cluster 8  Cluster 9  \n",
              "0          0          0     133450         64  \n",
              "1          7        260      86787          0  "
            ]
          },
          "execution_count": 68,
          "metadata": {},
          "output_type": "execute_result"
        }
      ],
      "source": [
        "show_contigency_matrix(X_preprocessed, y_preprocessed, 10, [0,1])"
      ]
    },
    {
      "cell_type": "code",
      "execution_count": null,
      "metadata": {
        "colab": {
          "base_uri": "https://localhost:8080/"
        },
        "id": "3hkDV2ieTYcL",
        "outputId": "4593849a-1eda-4dab-8b74-28a1be4a7bc8"
      },
      "outputs": [
        {
          "name": "stdout",
          "output_type": "stream",
          "text": [
            "Proporción de successful grupo 0: 0.53264\n",
            "Proporción de successful grupo 1: 1.0\n",
            "Proporción de successful grupo 2: 1.0\n",
            "Proporción de successful grupo 3: 0.03125\n",
            "Proporción de successful grupo 4: 0.98531\n",
            "Proporción de successful grupo 5: 0.35571\n",
            "Proporción de successful grupo 6: 1.0\n",
            "Proporción de successful grupo 7: 1.0\n",
            "Proporción de successful grupo 8: 0.39406\n",
            "Proporción de successful grupo 9: 0.0\n"
          ]
        }
      ],
      "source": [
        "show_successful_ratios(X_preprocessed, y_preprocessed, 10)"
      ]
    },
    {
      "cell_type": "markdown",
      "metadata": {
        "id": "Eu2KnjzDTcYY"
      },
      "source": [
        "**k = 11**"
      ]
    },
    {
      "cell_type": "code",
      "execution_count": null,
      "metadata": {
        "colab": {
          "base_uri": "https://localhost:8080/",
          "height": 112
        },
        "id": "EXD_L4aMTjm0",
        "outputId": "8a20a9f0-615b-44e4-cc38-8cdf90b784db"
      },
      "outputs": [
        {
          "data": {
            "text/html": [
              "\n",
              "  <div id=\"df-0c98eea6-b204-4f80-aef2-cae34f8de824\">\n",
              "    <div class=\"colab-df-container\">\n",
              "      <div>\n",
              "<style scoped>\n",
              "    .dataframe tbody tr th:only-of-type {\n",
              "        vertical-align: middle;\n",
              "    }\n",
              "\n",
              "    .dataframe tbody tr th {\n",
              "        vertical-align: top;\n",
              "    }\n",
              "\n",
              "    .dataframe thead th {\n",
              "        text-align: right;\n",
              "    }\n",
              "</style>\n",
              "<table border=\"1\" class=\"dataframe\">\n",
              "  <thead>\n",
              "    <tr style=\"text-align: right;\">\n",
              "      <th></th>\n",
              "      <th>Cluster 0</th>\n",
              "      <th>Cluster 1</th>\n",
              "      <th>Cluster 2</th>\n",
              "      <th>Cluster 3</th>\n",
              "      <th>Cluster 4</th>\n",
              "      <th>Cluster 5</th>\n",
              "      <th>Cluster 6</th>\n",
              "      <th>Cluster 7</th>\n",
              "      <th>Cluster 8</th>\n",
              "      <th>Cluster 9</th>\n",
              "      <th>Cluster 10</th>\n",
              "    </tr>\n",
              "  </thead>\n",
              "  <tbody>\n",
              "    <tr>\n",
              "      <th>0</th>\n",
              "      <td>30042</td>\n",
              "      <td>31</td>\n",
              "      <td>0</td>\n",
              "      <td>0</td>\n",
              "      <td>27</td>\n",
              "      <td>20430</td>\n",
              "      <td>14832</td>\n",
              "      <td>93663</td>\n",
              "      <td>0</td>\n",
              "      <td>64</td>\n",
              "      <td>38522</td>\n",
              "    </tr>\n",
              "    <tr>\n",
              "      <th>1</th>\n",
              "      <td>21387</td>\n",
              "      <td>1</td>\n",
              "      <td>7</td>\n",
              "      <td>170</td>\n",
              "      <td>1998</td>\n",
              "      <td>23099</td>\n",
              "      <td>5916</td>\n",
              "      <td>61966</td>\n",
              "      <td>17</td>\n",
              "      <td>0</td>\n",
              "      <td>22088</td>\n",
              "    </tr>\n",
              "  </tbody>\n",
              "</table>\n",
              "</div>\n",
              "      <button class=\"colab-df-convert\" onclick=\"convertToInteractive('df-0c98eea6-b204-4f80-aef2-cae34f8de824')\"\n",
              "              title=\"Convert this dataframe to an interactive table.\"\n",
              "              style=\"display:none;\">\n",
              "        \n",
              "  <svg xmlns=\"http://www.w3.org/2000/svg\" height=\"24px\"viewBox=\"0 0 24 24\"\n",
              "       width=\"24px\">\n",
              "    <path d=\"M0 0h24v24H0V0z\" fill=\"none\"/>\n",
              "    <path d=\"M18.56 5.44l.94 2.06.94-2.06 2.06-.94-2.06-.94-.94-2.06-.94 2.06-2.06.94zm-11 1L8.5 8.5l.94-2.06 2.06-.94-2.06-.94L8.5 2.5l-.94 2.06-2.06.94zm10 10l.94 2.06.94-2.06 2.06-.94-2.06-.94-.94-2.06-.94 2.06-2.06.94z\"/><path d=\"M17.41 7.96l-1.37-1.37c-.4-.4-.92-.59-1.43-.59-.52 0-1.04.2-1.43.59L10.3 9.45l-7.72 7.72c-.78.78-.78 2.05 0 2.83L4 21.41c.39.39.9.59 1.41.59.51 0 1.02-.2 1.41-.59l7.78-7.78 2.81-2.81c.8-.78.8-2.07 0-2.86zM5.41 20L4 18.59l7.72-7.72 1.47 1.35L5.41 20z\"/>\n",
              "  </svg>\n",
              "      </button>\n",
              "      \n",
              "  <style>\n",
              "    .colab-df-container {\n",
              "      display:flex;\n",
              "      flex-wrap:wrap;\n",
              "      gap: 12px;\n",
              "    }\n",
              "\n",
              "    .colab-df-convert {\n",
              "      background-color: #E8F0FE;\n",
              "      border: none;\n",
              "      border-radius: 50%;\n",
              "      cursor: pointer;\n",
              "      display: none;\n",
              "      fill: #1967D2;\n",
              "      height: 32px;\n",
              "      padding: 0 0 0 0;\n",
              "      width: 32px;\n",
              "    }\n",
              "\n",
              "    .colab-df-convert:hover {\n",
              "      background-color: #E2EBFA;\n",
              "      box-shadow: 0px 1px 2px rgba(60, 64, 67, 0.3), 0px 1px 3px 1px rgba(60, 64, 67, 0.15);\n",
              "      fill: #174EA6;\n",
              "    }\n",
              "\n",
              "    [theme=dark] .colab-df-convert {\n",
              "      background-color: #3B4455;\n",
              "      fill: #D2E3FC;\n",
              "    }\n",
              "\n",
              "    [theme=dark] .colab-df-convert:hover {\n",
              "      background-color: #434B5C;\n",
              "      box-shadow: 0px 1px 3px 1px rgba(0, 0, 0, 0.15);\n",
              "      filter: drop-shadow(0px 1px 2px rgba(0, 0, 0, 0.3));\n",
              "      fill: #FFFFFF;\n",
              "    }\n",
              "  </style>\n",
              "\n",
              "      <script>\n",
              "        const buttonEl =\n",
              "          document.querySelector('#df-0c98eea6-b204-4f80-aef2-cae34f8de824 button.colab-df-convert');\n",
              "        buttonEl.style.display =\n",
              "          google.colab.kernel.accessAllowed ? 'block' : 'none';\n",
              "\n",
              "        async function convertToInteractive(key) {\n",
              "          const element = document.querySelector('#df-0c98eea6-b204-4f80-aef2-cae34f8de824');\n",
              "          const dataTable =\n",
              "            await google.colab.kernel.invokeFunction('convertToInteractive',\n",
              "                                                     [key], {});\n",
              "          if (!dataTable) return;\n",
              "\n",
              "          const docLinkHtml = 'Like what you see? Visit the ' +\n",
              "            '<a target=\"_blank\" href=https://colab.research.google.com/notebooks/data_table.ipynb>data table notebook</a>'\n",
              "            + ' to learn more about interactive tables.';\n",
              "          element.innerHTML = '';\n",
              "          dataTable['output_type'] = 'display_data';\n",
              "          await google.colab.output.renderOutput(dataTable, element);\n",
              "          const docLink = document.createElement('div');\n",
              "          docLink.innerHTML = docLinkHtml;\n",
              "          element.appendChild(docLink);\n",
              "        }\n",
              "      </script>\n",
              "    </div>\n",
              "  </div>\n",
              "  "
            ],
            "text/plain": [
              "   Cluster 0  Cluster 1  Cluster 2  Cluster 3  Cluster 4  Cluster 5  \\\n",
              "0      30042         31          0          0         27      20430   \n",
              "1      21387          1          7        170       1998      23099   \n",
              "\n",
              "   Cluster 6  Cluster 7  Cluster 8  Cluster 9  Cluster 10  \n",
              "0      14832      93663          0         64       38522  \n",
              "1       5916      61966         17          0       22088  "
            ]
          },
          "execution_count": 70,
          "metadata": {},
          "output_type": "execute_result"
        }
      ],
      "source": [
        "show_contigency_matrix(X_preprocessed, y_preprocessed, 11, [0,1])"
      ]
    },
    {
      "cell_type": "code",
      "execution_count": null,
      "metadata": {
        "colab": {
          "base_uri": "https://localhost:8080/"
        },
        "id": "HmmmdlRPTpdh",
        "outputId": "3b8932b9-1f06-452d-caa0-8ea98fbd1ddb"
      },
      "outputs": [
        {
          "name": "stdout",
          "output_type": "stream",
          "text": [
            "Proporción de successful grupo 0: 0.41585\n",
            "Proporción de successful grupo 1: 0.03125\n",
            "Proporción de successful grupo 2: 1.0\n",
            "Proporción de successful grupo 3: 1.0\n",
            "Proporción de successful grupo 4: 0.98667\n",
            "Proporción de successful grupo 5: 0.53066\n",
            "Proporción de successful grupo 6: 0.28514\n",
            "Proporción de successful grupo 7: 0.39816\n",
            "Proporción de successful grupo 8: 1.0\n",
            "Proporción de successful grupo 9: 0.0\n",
            "Proporción de successful grupo 10: 0.36443\n"
          ]
        }
      ],
      "source": [
        "show_successful_ratios(X_preprocessed, y_preprocessed, 11)"
      ]
    },
    {
      "cell_type": "markdown",
      "metadata": {
        "id": "wo-6BzSwTyqe"
      },
      "source": [
        "Por lo que podemos ver en la matriz de contingencia es que los grupos donde la clasificación es más evidente, la cantidad de datos es bastante reducidad. Por ejemplo, en k = 11, los grupos más grandes son, el 0,5,6,7 y 10. En estos grupos la posibilidad de exito ronda entre 28% y 53%. Sin embargo, tener 50% de posibilidades de existo en un modelo binario no es muy concluyente por lo que aún esta lejos de ser preciso."
      ]
    },
    {
      "cell_type": "code",
      "execution_count": null,
      "metadata": {
        "colab": {
          "background_save": true
        },
        "id": "-ozM0WxQT9LE",
        "outputId": "5577ff62-0eb8-4256-d63b-7e5dc96fd774"
      },
      "outputs": [
        {
          "data": {
            "text/html": [
              "\n",
              "  <div id=\"df-3154b896-c2b8-40a4-a302-60b72541ae96\">\n",
              "    <div class=\"colab-df-container\">\n",
              "      <div>\n",
              "<style scoped>\n",
              "    .dataframe tbody tr th:only-of-type {\n",
              "        vertical-align: middle;\n",
              "    }\n",
              "\n",
              "    .dataframe tbody tr th {\n",
              "        vertical-align: top;\n",
              "    }\n",
              "\n",
              "    .dataframe thead th {\n",
              "        text-align: right;\n",
              "    }\n",
              "</style>\n",
              "<table border=\"1\" class=\"dataframe\">\n",
              "  <thead>\n",
              "    <tr style=\"text-align: right;\">\n",
              "      <th></th>\n",
              "      <th>Fashion</th>\n",
              "      <th>Film &amp; Video</th>\n",
              "      <th>Art</th>\n",
              "      <th>Technology</th>\n",
              "      <th>Journalism</th>\n",
              "      <th>Publishing</th>\n",
              "      <th>Music</th>\n",
              "      <th>Photography</th>\n",
              "      <th>Games</th>\n",
              "      <th>Design</th>\n",
              "      <th>...</th>\n",
              "      <th>Switzerland</th>\n",
              "      <th>Austria</th>\n",
              "      <th>Luxembourg</th>\n",
              "      <th>Singapore</th>\n",
              "      <th>Hong Kong</th>\n",
              "      <th>Mexico</th>\n",
              "      <th>Japan</th>\n",
              "      <th>Goal</th>\n",
              "      <th>Pledged</th>\n",
              "      <th>Backers</th>\n",
              "    </tr>\n",
              "  </thead>\n",
              "  <tbody>\n",
              "    <tr>\n",
              "      <th>0</th>\n",
              "      <td>0.00000</td>\n",
              "      <td>0.00000</td>\n",
              "      <td>0.00000</td>\n",
              "      <td>0.00000</td>\n",
              "      <td>0.00000</td>\n",
              "      <td>0.00000</td>\n",
              "      <td>1.00000</td>\n",
              "      <td>0.00000</td>\n",
              "      <td>0.00000</td>\n",
              "      <td>0.00000</td>\n",
              "      <td>...</td>\n",
              "      <td>0.00121</td>\n",
              "      <td>0.00029</td>\n",
              "      <td>0.00299</td>\n",
              "      <td>0.00362</td>\n",
              "      <td>0.00089</td>\n",
              "      <td>0.00000</td>\n",
              "      <td>0.91419</td>\n",
              "      <td>3.929072e+04</td>\n",
              "      <td>5.899771e+03</td>\n",
              "      <td>60.24774</td>\n",
              "    </tr>\n",
              "    <tr>\n",
              "      <th>1</th>\n",
              "      <td>0.15625</td>\n",
              "      <td>0.03125</td>\n",
              "      <td>0.00000</td>\n",
              "      <td>0.00000</td>\n",
              "      <td>0.03125</td>\n",
              "      <td>0.03125</td>\n",
              "      <td>0.40625</td>\n",
              "      <td>0.06250</td>\n",
              "      <td>0.06250</td>\n",
              "      <td>0.03125</td>\n",
              "      <td>...</td>\n",
              "      <td>0.00000</td>\n",
              "      <td>0.00000</td>\n",
              "      <td>0.00000</td>\n",
              "      <td>0.00000</td>\n",
              "      <td>0.03125</td>\n",
              "      <td>0.06250</td>\n",
              "      <td>0.71875</td>\n",
              "      <td>9.999533e+07</td>\n",
              "      <td>6.206562e+02</td>\n",
              "      <td>2.37500</td>\n",
              "    </tr>\n",
              "    <tr>\n",
              "      <th>2</th>\n",
              "      <td>0.00000</td>\n",
              "      <td>0.00000</td>\n",
              "      <td>0.00000</td>\n",
              "      <td>0.00000</td>\n",
              "      <td>0.71429</td>\n",
              "      <td>0.00000</td>\n",
              "      <td>0.00000</td>\n",
              "      <td>0.00000</td>\n",
              "      <td>0.28571</td>\n",
              "      <td>0.00000</td>\n",
              "      <td>...</td>\n",
              "      <td>0.00000</td>\n",
              "      <td>0.00000</td>\n",
              "      <td>0.00000</td>\n",
              "      <td>0.00000</td>\n",
              "      <td>0.00000</td>\n",
              "      <td>0.00000</td>\n",
              "      <td>1.00000</td>\n",
              "      <td>3.885714e+05</td>\n",
              "      <td>1.240751e+07</td>\n",
              "      <td>57763.42857</td>\n",
              "    </tr>\n",
              "    <tr>\n",
              "      <th>3</th>\n",
              "      <td>0.01176</td>\n",
              "      <td>0.00588</td>\n",
              "      <td>0.00000</td>\n",
              "      <td>0.00000</td>\n",
              "      <td>0.21765</td>\n",
              "      <td>0.01176</td>\n",
              "      <td>0.02353</td>\n",
              "      <td>0.03529</td>\n",
              "      <td>0.40000</td>\n",
              "      <td>0.00000</td>\n",
              "      <td>...</td>\n",
              "      <td>0.00000</td>\n",
              "      <td>0.00000</td>\n",
              "      <td>0.00000</td>\n",
              "      <td>0.00000</td>\n",
              "      <td>0.00000</td>\n",
              "      <td>0.04706</td>\n",
              "      <td>0.90000</td>\n",
              "      <td>2.252323e+05</td>\n",
              "      <td>2.077091e+06</td>\n",
              "      <td>17187.37059</td>\n",
              "    </tr>\n",
              "    <tr>\n",
              "      <th>4</th>\n",
              "      <td>0.00889</td>\n",
              "      <td>0.01975</td>\n",
              "      <td>0.00099</td>\n",
              "      <td>0.00049</td>\n",
              "      <td>0.26420</td>\n",
              "      <td>0.03506</td>\n",
              "      <td>0.05235</td>\n",
              "      <td>0.01333</td>\n",
              "      <td>0.32198</td>\n",
              "      <td>0.00049</td>\n",
              "      <td>...</td>\n",
              "      <td>0.00049</td>\n",
              "      <td>0.00198</td>\n",
              "      <td>0.00494</td>\n",
              "      <td>0.00444</td>\n",
              "      <td>0.00395</td>\n",
              "      <td>0.05481</td>\n",
              "      <td>0.83506</td>\n",
              "      <td>8.933043e+04</td>\n",
              "      <td>3.934347e+05</td>\n",
              "      <td>4321.66667</td>\n",
              "    </tr>\n",
              "    <tr>\n",
              "      <th>5</th>\n",
              "      <td>0.00000</td>\n",
              "      <td>0.00000</td>\n",
              "      <td>0.00000</td>\n",
              "      <td>0.00000</td>\n",
              "      <td>0.00000</td>\n",
              "      <td>0.00000</td>\n",
              "      <td>0.00000</td>\n",
              "      <td>0.00000</td>\n",
              "      <td>0.00000</td>\n",
              "      <td>0.00000</td>\n",
              "      <td>...</td>\n",
              "      <td>0.00172</td>\n",
              "      <td>0.00018</td>\n",
              "      <td>0.00296</td>\n",
              "      <td>0.00374</td>\n",
              "      <td>0.00108</td>\n",
              "      <td>0.00000</td>\n",
              "      <td>0.92777</td>\n",
              "      <td>1.171710e+04</td>\n",
              "      <td>3.976520e+03</td>\n",
              "      <td>54.98799</td>\n",
              "    </tr>\n",
              "    <tr>\n",
              "      <th>6</th>\n",
              "      <td>0.00000</td>\n",
              "      <td>0.00000</td>\n",
              "      <td>0.00000</td>\n",
              "      <td>0.00000</td>\n",
              "      <td>0.00000</td>\n",
              "      <td>0.00000</td>\n",
              "      <td>0.00000</td>\n",
              "      <td>1.00000</td>\n",
              "      <td>0.00000</td>\n",
              "      <td>0.00000</td>\n",
              "      <td>...</td>\n",
              "      <td>0.00212</td>\n",
              "      <td>0.00101</td>\n",
              "      <td>0.00496</td>\n",
              "      <td>0.00443</td>\n",
              "      <td>0.00212</td>\n",
              "      <td>0.00000</td>\n",
              "      <td>0.87372</td>\n",
              "      <td>3.308646e+04</td>\n",
              "      <td>4.747027e+03</td>\n",
              "      <td>51.78335</td>\n",
              "    </tr>\n",
              "    <tr>\n",
              "      <th>7</th>\n",
              "      <td>0.13207</td>\n",
              "      <td>0.05256</td>\n",
              "      <td>0.03860</td>\n",
              "      <td>0.01987</td>\n",
              "      <td>0.11676</td>\n",
              "      <td>0.09392</td>\n",
              "      <td>0.00000</td>\n",
              "      <td>0.00000</td>\n",
              "      <td>0.12713</td>\n",
              "      <td>0.02009</td>\n",
              "      <td>...</td>\n",
              "      <td>0.00000</td>\n",
              "      <td>0.00000</td>\n",
              "      <td>0.00000</td>\n",
              "      <td>0.00000</td>\n",
              "      <td>0.00000</td>\n",
              "      <td>0.00000</td>\n",
              "      <td>1.00000</td>\n",
              "      <td>2.276428e+04</td>\n",
              "      <td>6.778126e+03</td>\n",
              "      <td>91.96378</td>\n",
              "    </tr>\n",
              "    <tr>\n",
              "      <th>8</th>\n",
              "      <td>0.00000</td>\n",
              "      <td>0.00000</td>\n",
              "      <td>0.00000</td>\n",
              "      <td>0.00000</td>\n",
              "      <td>0.05882</td>\n",
              "      <td>0.00000</td>\n",
              "      <td>0.11765</td>\n",
              "      <td>0.00000</td>\n",
              "      <td>0.70588</td>\n",
              "      <td>0.00000</td>\n",
              "      <td>...</td>\n",
              "      <td>0.00000</td>\n",
              "      <td>0.00000</td>\n",
              "      <td>0.00000</td>\n",
              "      <td>0.00000</td>\n",
              "      <td>0.00000</td>\n",
              "      <td>0.05882</td>\n",
              "      <td>0.88235</td>\n",
              "      <td>7.149510e+05</td>\n",
              "      <td>4.790850e+06</td>\n",
              "      <td>85568.00000</td>\n",
              "    </tr>\n",
              "    <tr>\n",
              "      <th>9</th>\n",
              "      <td>0.09375</td>\n",
              "      <td>0.00000</td>\n",
              "      <td>0.00000</td>\n",
              "      <td>0.00000</td>\n",
              "      <td>0.06250</td>\n",
              "      <td>0.01562</td>\n",
              "      <td>0.42188</td>\n",
              "      <td>0.03125</td>\n",
              "      <td>0.03125</td>\n",
              "      <td>0.03125</td>\n",
              "      <td>...</td>\n",
              "      <td>0.00000</td>\n",
              "      <td>0.00000</td>\n",
              "      <td>0.01562</td>\n",
              "      <td>0.00000</td>\n",
              "      <td>0.01562</td>\n",
              "      <td>0.04688</td>\n",
              "      <td>0.79688</td>\n",
              "      <td>3.123432e+07</td>\n",
              "      <td>1.034088e+04</td>\n",
              "      <td>45.73438</td>\n",
              "    </tr>\n",
              "    <tr>\n",
              "      <th>10</th>\n",
              "      <td>0.08660</td>\n",
              "      <td>0.02858</td>\n",
              "      <td>0.03110</td>\n",
              "      <td>0.00822</td>\n",
              "      <td>0.11406</td>\n",
              "      <td>0.08799</td>\n",
              "      <td>0.08669</td>\n",
              "      <td>0.02396</td>\n",
              "      <td>0.13668</td>\n",
              "      <td>0.01731</td>\n",
              "      <td>...</td>\n",
              "      <td>0.00673</td>\n",
              "      <td>0.00716</td>\n",
              "      <td>0.02521</td>\n",
              "      <td>0.01780</td>\n",
              "      <td>0.00856</td>\n",
              "      <td>0.48848</td>\n",
              "      <td>0.00000</td>\n",
              "      <td>2.879690e+04</td>\n",
              "      <td>5.980706e+03</td>\n",
              "      <td>72.22468</td>\n",
              "    </tr>\n",
              "  </tbody>\n",
              "</table>\n",
              "<p>11 rows × 40 columns</p>\n",
              "</div>\n",
              "      <button class=\"colab-df-convert\" onclick=\"convertToInteractive('df-3154b896-c2b8-40a4-a302-60b72541ae96')\"\n",
              "              title=\"Convert this dataframe to an interactive table.\"\n",
              "              style=\"display:none;\">\n",
              "        \n",
              "  <svg xmlns=\"http://www.w3.org/2000/svg\" height=\"24px\"viewBox=\"0 0 24 24\"\n",
              "       width=\"24px\">\n",
              "    <path d=\"M0 0h24v24H0V0z\" fill=\"none\"/>\n",
              "    <path d=\"M18.56 5.44l.94 2.06.94-2.06 2.06-.94-2.06-.94-.94-2.06-.94 2.06-2.06.94zm-11 1L8.5 8.5l.94-2.06 2.06-.94-2.06-.94L8.5 2.5l-.94 2.06-2.06.94zm10 10l.94 2.06.94-2.06 2.06-.94-2.06-.94-.94-2.06-.94 2.06-2.06.94z\"/><path d=\"M17.41 7.96l-1.37-1.37c-.4-.4-.92-.59-1.43-.59-.52 0-1.04.2-1.43.59L10.3 9.45l-7.72 7.72c-.78.78-.78 2.05 0 2.83L4 21.41c.39.39.9.59 1.41.59.51 0 1.02-.2 1.41-.59l7.78-7.78 2.81-2.81c.8-.78.8-2.07 0-2.86zM5.41 20L4 18.59l7.72-7.72 1.47 1.35L5.41 20z\"/>\n",
              "  </svg>\n",
              "      </button>\n",
              "      \n",
              "  <style>\n",
              "    .colab-df-container {\n",
              "      display:flex;\n",
              "      flex-wrap:wrap;\n",
              "      gap: 12px;\n",
              "    }\n",
              "\n",
              "    .colab-df-convert {\n",
              "      background-color: #E8F0FE;\n",
              "      border: none;\n",
              "      border-radius: 50%;\n",
              "      cursor: pointer;\n",
              "      display: none;\n",
              "      fill: #1967D2;\n",
              "      height: 32px;\n",
              "      padding: 0 0 0 0;\n",
              "      width: 32px;\n",
              "    }\n",
              "\n",
              "    .colab-df-convert:hover {\n",
              "      background-color: #E2EBFA;\n",
              "      box-shadow: 0px 1px 2px rgba(60, 64, 67, 0.3), 0px 1px 3px 1px rgba(60, 64, 67, 0.15);\n",
              "      fill: #174EA6;\n",
              "    }\n",
              "\n",
              "    [theme=dark] .colab-df-convert {\n",
              "      background-color: #3B4455;\n",
              "      fill: #D2E3FC;\n",
              "    }\n",
              "\n",
              "    [theme=dark] .colab-df-convert:hover {\n",
              "      background-color: #434B5C;\n",
              "      box-shadow: 0px 1px 3px 1px rgba(0, 0, 0, 0.15);\n",
              "      filter: drop-shadow(0px 1px 2px rgba(0, 0, 0, 0.3));\n",
              "      fill: #FFFFFF;\n",
              "    }\n",
              "  </style>\n",
              "\n",
              "      <script>\n",
              "        const buttonEl =\n",
              "          document.querySelector('#df-3154b896-c2b8-40a4-a302-60b72541ae96 button.colab-df-convert');\n",
              "        buttonEl.style.display =\n",
              "          google.colab.kernel.accessAllowed ? 'block' : 'none';\n",
              "\n",
              "        async function convertToInteractive(key) {\n",
              "          const element = document.querySelector('#df-3154b896-c2b8-40a4-a302-60b72541ae96');\n",
              "          const dataTable =\n",
              "            await google.colab.kernel.invokeFunction('convertToInteractive',\n",
              "                                                     [key], {});\n",
              "          if (!dataTable) return;\n",
              "\n",
              "          const docLinkHtml = 'Like what you see? Visit the ' +\n",
              "            '<a target=\"_blank\" href=https://colab.research.google.com/notebooks/data_table.ipynb>data table notebook</a>'\n",
              "            + ' to learn more about interactive tables.';\n",
              "          element.innerHTML = '';\n",
              "          dataTable['output_type'] = 'display_data';\n",
              "          await google.colab.output.renderOutput(dataTable, element);\n",
              "          const docLink = document.createElement('div');\n",
              "          docLink.innerHTML = docLinkHtml;\n",
              "          element.appendChild(docLink);\n",
              "        }\n",
              "      </script>\n",
              "    </div>\n",
              "  </div>\n",
              "  "
            ],
            "text/plain": [
              "    Fashion  Film & Video      Art  Technology  Journalism  Publishing  \\\n",
              "0   0.00000       0.00000  0.00000     0.00000     0.00000     0.00000   \n",
              "1   0.15625       0.03125  0.00000     0.00000     0.03125     0.03125   \n",
              "2   0.00000       0.00000  0.00000     0.00000     0.71429     0.00000   \n",
              "3   0.01176       0.00588  0.00000     0.00000     0.21765     0.01176   \n",
              "4   0.00889       0.01975  0.00099     0.00049     0.26420     0.03506   \n",
              "5   0.00000       0.00000  0.00000     0.00000     0.00000     0.00000   \n",
              "6   0.00000       0.00000  0.00000     0.00000     0.00000     0.00000   \n",
              "7   0.13207       0.05256  0.03860     0.01987     0.11676     0.09392   \n",
              "8   0.00000       0.00000  0.00000     0.00000     0.05882     0.00000   \n",
              "9   0.09375       0.00000  0.00000     0.00000     0.06250     0.01562   \n",
              "10  0.08660       0.02858  0.03110     0.00822     0.11406     0.08799   \n",
              "\n",
              "      Music  Photography    Games   Design  ...  Switzerland  Austria  \\\n",
              "0   1.00000      0.00000  0.00000  0.00000  ...      0.00121  0.00029   \n",
              "1   0.40625      0.06250  0.06250  0.03125  ...      0.00000  0.00000   \n",
              "2   0.00000      0.00000  0.28571  0.00000  ...      0.00000  0.00000   \n",
              "3   0.02353      0.03529  0.40000  0.00000  ...      0.00000  0.00000   \n",
              "4   0.05235      0.01333  0.32198  0.00049  ...      0.00049  0.00198   \n",
              "5   0.00000      0.00000  0.00000  0.00000  ...      0.00172  0.00018   \n",
              "6   0.00000      1.00000  0.00000  0.00000  ...      0.00212  0.00101   \n",
              "7   0.00000      0.00000  0.12713  0.02009  ...      0.00000  0.00000   \n",
              "8   0.11765      0.00000  0.70588  0.00000  ...      0.00000  0.00000   \n",
              "9   0.42188      0.03125  0.03125  0.03125  ...      0.00000  0.00000   \n",
              "10  0.08669      0.02396  0.13668  0.01731  ...      0.00673  0.00716   \n",
              "\n",
              "    Luxembourg  Singapore  Hong Kong   Mexico    Japan          Goal  \\\n",
              "0      0.00299    0.00362    0.00089  0.00000  0.91419  3.929072e+04   \n",
              "1      0.00000    0.00000    0.03125  0.06250  0.71875  9.999533e+07   \n",
              "2      0.00000    0.00000    0.00000  0.00000  1.00000  3.885714e+05   \n",
              "3      0.00000    0.00000    0.00000  0.04706  0.90000  2.252323e+05   \n",
              "4      0.00494    0.00444    0.00395  0.05481  0.83506  8.933043e+04   \n",
              "5      0.00296    0.00374    0.00108  0.00000  0.92777  1.171710e+04   \n",
              "6      0.00496    0.00443    0.00212  0.00000  0.87372  3.308646e+04   \n",
              "7      0.00000    0.00000    0.00000  0.00000  1.00000  2.276428e+04   \n",
              "8      0.00000    0.00000    0.00000  0.05882  0.88235  7.149510e+05   \n",
              "9      0.01562    0.00000    0.01562  0.04688  0.79688  3.123432e+07   \n",
              "10     0.02521    0.01780    0.00856  0.48848  0.00000  2.879690e+04   \n",
              "\n",
              "         Pledged      Backers  \n",
              "0   5.899771e+03     60.24774  \n",
              "1   6.206562e+02      2.37500  \n",
              "2   1.240751e+07  57763.42857  \n",
              "3   2.077091e+06  17187.37059  \n",
              "4   3.934347e+05   4321.66667  \n",
              "5   3.976520e+03     54.98799  \n",
              "6   4.747027e+03     51.78335  \n",
              "7   6.778126e+03     91.96378  \n",
              "8   4.790850e+06  85568.00000  \n",
              "9   1.034088e+04     45.73438  \n",
              "10  5.980706e+03     72.22468  \n",
              "\n",
              "[11 rows x 40 columns]"
            ]
          },
          "execution_count": 72,
          "metadata": {},
          "output_type": "execute_result"
        }
      ],
      "source": [
        "show_centroids(X_preprocessed, 11, tf)"
      ]
    },
    {
      "cell_type": "markdown",
      "metadata": {
        "id": "juuaGVmMPyQV"
      },
      "source": [
        "En conclusión,debido que para algunos clusters el modelos es muy exacto, pero para los grupos con la mayor cantidad de datos no esta presentando resultados concluyentes, se puede decir que este método nos es del todo adecuado para la interpretación de este grupo de datos"
      ]
    },
    {
      "cell_type": "markdown",
      "metadata": {
        "id": "mthGo9bUPzu7"
      },
      "source": [
        "# **8. Regresión logística**\n",
        "---\n",
        "\n",
        "Una forma sencilla de abordar este problema es mediante una regresión logistica. Aunque este es uno de los métodos más básicos, es una herramienta muy potente para la agrupación cuando de una clasificación binaria se trata. Para ello evaluaremos algunos de los métodos de solución de regresión logistica que tiene Scikit-learn"
      ]
    },
    {
      "cell_type": "code",
      "execution_count": null,
      "metadata": {
        "colab": {
          "background_save": true
        },
        "id": "9f48j6saQGag",
        "outputId": "f2710994-62eb-45f4-c14d-097b80a16409"
      },
      "outputs": [
        {
          "name": "stdout",
          "output_type": "stream",
          "text": [
            "Coeficiente de Determinación con r2_score: 0.5902\n",
            "Precisión del modelo con respecto al número de aciertos: 0.9010\n"
          ]
        }
      ],
      "source": [
        "from sklearn.linear_model import LogisticRegression\n",
        "\n",
        "lr_model = LogisticRegression(multi_class='multinomial', solver='lbfgs');\n",
        "lr_model.fit(X_train, y_train)\n",
        "\n",
        "print(f'Coeficiente de Determinación con r2_score: {r2_score(y_test, lr_model.predict(X_test)):.4f}')\n",
        "print(f'Precisión del modelo con respecto al número de aciertos: {accuracy_score(lr_model.predict(X_test),y_test):.4f}')"
      ]
    },
    {
      "cell_type": "code",
      "execution_count": null,
      "metadata": {
        "colab": {
          "background_save": true
        },
        "id": "nsLTkUPOQPne",
        "outputId": "209cca29-80ee-4b37-ff3a-522de5028f10"
      },
      "outputs": [
        {
          "name": "stdout",
          "output_type": "stream",
          "text": [
            "Coeficiente de Determinación con r2_score: 0.5292\n",
            "Precisión del modelo con respecto al número de aciertos: 0.8862\n"
          ]
        }
      ],
      "source": [
        "lr_model = LogisticRegression();\n",
        "lr_model.fit(X_train, y_train)\n",
        "\n",
        "print(f'Coeficiente de Determinación con r2_score: {r2_score(y_test, lr_model.predict(X_test)):.4f}')\n",
        "print(f'Precisión del modelo con respecto al número de aciertos: {accuracy_score(lr_model.predict(X_test),y_test):.4f}')"
      ]
    },
    {
      "cell_type": "code",
      "execution_count": null,
      "metadata": {
        "colab": {
          "background_save": true
        },
        "id": "kkm6q6GzQWkt",
        "outputId": "0da5fd30-dcce-4d1b-ef29-3d957815d1c5"
      },
      "outputs": [
        {
          "name": "stdout",
          "output_type": "stream",
          "text": [
            "Coeficiente de Determinación con r2_score: 0.5906\n",
            "Precisión del modelo con respecto al número de aciertos: 0.9011\n"
          ]
        }
      ],
      "source": [
        "lr_model = LogisticRegression(multi_class='multinomial', solver='newton-cg');\n",
        "lr_model.fit(X_train, y_train)\n",
        "\n",
        "print(f'Coeficiente de Determinación con r2_score: {r2_score(y_test, lr_model.predict(X_test)):.4f}')\n",
        "print(f'Precisión del modelo con respecto al número de aciertos: {accuracy_score(lr_model.predict(X_test),y_test):.4f}')"
      ]
    },
    {
      "cell_type": "markdown",
      "metadata": {
        "id": "KftnhaqrQa5N"
      },
      "source": [
        "Este ultimo método es aquel que recibe un máximo valor en el coeficiente de determinación y tiene una precisión del 90%, lo cual es bastante decente para un metodo de regresión sencillo. A pesar de ser muy bueno, se sigue quedando corto con respecto al resto de métodos de aprendizaje supervisado.\n",
        "\n",
        "Algo que podemos interpretar de esta regresión es el peso en cada uno de los coeficientes para determinar si representan una caracteristica positiva o negativa a la hora de comprobar el exito en el crowdfunding."
      ]
    },
    {
      "cell_type": "code",
      "execution_count": null,
      "metadata": {
        "colab": {
          "background_save": true
        },
        "id": "JiSC96_AQgSY",
        "outputId": "ca3d54f3-cc46-48ad-f6e3-665611b522de"
      },
      "outputs": [
        {
          "data": {
            "text/plain": [
              "Text(0.5, 1.0, 'Peso de cada una de las columnas en el modelo de regresión logística')"
            ]
          },
          "execution_count": 76,
          "metadata": {},
          "output_type": "execute_result"
        },
        {
          "data": {
            "image/png": "[encoded data removed]",
            "text/plain": [
              "<Figure size 640x480 with 1 Axes>"
            ]
          },
          "metadata": {},
          "output_type": "display_data"
        }
      ],
      "source": [
        "plt.bar(height=lr_model.coef_[0],x=range(40))\n",
        "plt.xlabel('Número del atributo')\n",
        "plt.ylabel('Coeficiente en la regresión')\n",
        "plt.title('Peso de cada una de las columnas en el modelo de regresión logística')"
      ]
    },
    {
      "cell_type": "markdown",
      "metadata": {
        "id": "fdkPl3ZzQo7B"
      },
      "source": [
        "A pesar de que se ve que las ultimas 3 columnas (las númericas) son las de mayor peso, esto se puede deber a que esta variable puede tener valores mucho menores a los de las variables categoricas (que al ser usadas son 1 gracias al One Hot Encoder), entonces a pesar de que se vea como que son las variables de mayor y unica importancia, no es necesariamente así."
      ]
    },
    {
      "cell_type": "code",
      "execution_count": null,
      "metadata": {
        "colab": {
          "background_save": true
        },
        "id": "q_v5Lxp4QvNj",
        "outputId": "fb88dbc6-23d8-4400-af9c-23bfda7caf06"
      },
      "outputs": [
        {
          "data": {
            "text/html": [
              "\n",
              "  <div id=\"df-88d7ea24-ed7a-4124-8202-94d80f21910e\">\n",
              "    <div class=\"colab-df-container\">\n",
              "      <div>\n",
              "<style scoped>\n",
              "    .dataframe tbody tr th:only-of-type {\n",
              "        vertical-align: middle;\n",
              "    }\n",
              "\n",
              "    .dataframe tbody tr th {\n",
              "        vertical-align: top;\n",
              "    }\n",
              "\n",
              "    .dataframe thead th {\n",
              "        text-align: right;\n",
              "    }\n",
              "</style>\n",
              "<table border=\"1\" class=\"dataframe\">\n",
              "  <thead>\n",
              "    <tr style=\"text-align: right;\">\n",
              "      <th></th>\n",
              "      <th>columna</th>\n",
              "      <th>coeficiente_lr</th>\n",
              "      <th>coef_abs</th>\n",
              "    </tr>\n",
              "  </thead>\n",
              "  <tbody>\n",
              "    <tr>\n",
              "      <th>37</th>\n",
              "      <td>Goal</td>\n",
              "      <td>-79.378794</td>\n",
              "      <td>79.378794</td>\n",
              "    </tr>\n",
              "    <tr>\n",
              "      <th>38</th>\n",
              "      <td>Pledged</td>\n",
              "      <td>11.239742</td>\n",
              "      <td>11.239742</td>\n",
              "    </tr>\n",
              "    <tr>\n",
              "      <th>39</th>\n",
              "      <td>Backers</td>\n",
              "      <td>9.533557</td>\n",
              "      <td>9.533557</td>\n",
              "    </tr>\n",
              "    <tr>\n",
              "      <th>25</th>\n",
              "      <td>Germany</td>\n",
              "      <td>0.659382</td>\n",
              "      <td>0.659382</td>\n",
              "    </tr>\n",
              "    <tr>\n",
              "      <th>14</th>\n",
              "      <td>Dance</td>\n",
              "      <td>0.499458</td>\n",
              "      <td>0.499458</td>\n",
              "    </tr>\n",
              "    <tr>\n",
              "      <th>3</th>\n",
              "      <td>Technology</td>\n",
              "      <td>0.479772</td>\n",
              "      <td>0.479772</td>\n",
              "    </tr>\n",
              "    <tr>\n",
              "      <th>13</th>\n",
              "      <td>Food</td>\n",
              "      <td>-0.361006</td>\n",
              "      <td>0.361006</td>\n",
              "    </tr>\n",
              "    <tr>\n",
              "      <th>8</th>\n",
              "      <td>Games</td>\n",
              "      <td>-0.303295</td>\n",
              "      <td>0.303295</td>\n",
              "    </tr>\n",
              "    <tr>\n",
              "      <th>10</th>\n",
              "      <td>Theater</td>\n",
              "      <td>0.235534</td>\n",
              "      <td>0.235534</td>\n",
              "    </tr>\n",
              "    <tr>\n",
              "      <th>4</th>\n",
              "      <td>Journalism</td>\n",
              "      <td>-0.232214</td>\n",
              "      <td>0.232214</td>\n",
              "    </tr>\n",
              "  </tbody>\n",
              "</table>\n",
              "</div>\n",
              "      <button class=\"colab-df-convert\" onclick=\"convertToInteractive('df-88d7ea24-ed7a-4124-8202-94d80f21910e')\"\n",
              "              title=\"Convert this dataframe to an interactive table.\"\n",
              "              style=\"display:none;\">\n",
              "        \n",
              "  <svg xmlns=\"http://www.w3.org/2000/svg\" height=\"24px\"viewBox=\"0 0 24 24\"\n",
              "       width=\"24px\">\n",
              "    <path d=\"M0 0h24v24H0V0z\" fill=\"none\"/>\n",
              "    <path d=\"M18.56 5.44l.94 2.06.94-2.06 2.06-.94-2.06-.94-.94-2.06-.94 2.06-2.06.94zm-11 1L8.5 8.5l.94-2.06 2.06-.94-2.06-.94L8.5 2.5l-.94 2.06-2.06.94zm10 10l.94 2.06.94-2.06 2.06-.94-2.06-.94-.94-2.06-.94 2.06-2.06.94z\"/><path d=\"M17.41 7.96l-1.37-1.37c-.4-.4-.92-.59-1.43-.59-.52 0-1.04.2-1.43.59L10.3 9.45l-7.72 7.72c-.78.78-.78 2.05 0 2.83L4 21.41c.39.39.9.59 1.41.59.51 0 1.02-.2 1.41-.59l7.78-7.78 2.81-2.81c.8-.78.8-2.07 0-2.86zM5.41 20L4 18.59l7.72-7.72 1.47 1.35L5.41 20z\"/>\n",
              "  </svg>\n",
              "      </button>\n",
              "      \n",
              "  <style>\n",
              "    .colab-df-container {\n",
              "      display:flex;\n",
              "      flex-wrap:wrap;\n",
              "      gap: 12px;\n",
              "    }\n",
              "\n",
              "    .colab-df-convert {\n",
              "      background-color: #E8F0FE;\n",
              "      border: none;\n",
              "      border-radius: 50%;\n",
              "      cursor: pointer;\n",
              "      display: none;\n",
              "      fill: #1967D2;\n",
              "      height: 32px;\n",
              "      padding: 0 0 0 0;\n",
              "      width: 32px;\n",
              "    }\n",
              "\n",
              "    .colab-df-convert:hover {\n",
              "      background-color: #E2EBFA;\n",
              "      box-shadow: 0px 1px 2px rgba(60, 64, 67, 0.3), 0px 1px 3px 1px rgba(60, 64, 67, 0.15);\n",
              "      fill: #174EA6;\n",
              "    }\n",
              "\n",
              "    [theme=dark] .colab-df-convert {\n",
              "      background-color: #3B4455;\n",
              "      fill: #D2E3FC;\n",
              "    }\n",
              "\n",
              "    [theme=dark] .colab-df-convert:hover {\n",
              "      background-color: #434B5C;\n",
              "      box-shadow: 0px 1px 3px 1px rgba(0, 0, 0, 0.15);\n",
              "      filter: drop-shadow(0px 1px 2px rgba(0, 0, 0, 0.3));\n",
              "      fill: #FFFFFF;\n",
              "    }\n",
              "  </style>\n",
              "\n",
              "      <script>\n",
              "        const buttonEl =\n",
              "          document.querySelector('#df-88d7ea24-ed7a-4124-8202-94d80f21910e button.colab-df-convert');\n",
              "        buttonEl.style.display =\n",
              "          google.colab.kernel.accessAllowed ? 'block' : 'none';\n",
              "\n",
              "        async function convertToInteractive(key) {\n",
              "          const element = document.querySelector('#df-88d7ea24-ed7a-4124-8202-94d80f21910e');\n",
              "          const dataTable =\n",
              "            await google.colab.kernel.invokeFunction('convertToInteractive',\n",
              "                                                     [key], {});\n",
              "          if (!dataTable) return;\n",
              "\n",
              "          const docLinkHtml = 'Like what you see? Visit the ' +\n",
              "            '<a target=\"_blank\" href=https://colab.research.google.com/notebooks/data_table.ipynb>data table notebook</a>'\n",
              "            + ' to learn more about interactive tables.';\n",
              "          element.innerHTML = '';\n",
              "          dataTable['output_type'] = 'display_data';\n",
              "          await google.colab.output.renderOutput(dataTable, element);\n",
              "          const docLink = document.createElement('div');\n",
              "          docLink.innerHTML = docLinkHtml;\n",
              "          element.appendChild(docLink);\n",
              "        }\n",
              "      </script>\n",
              "    </div>\n",
              "  </div>\n",
              "  "
            ],
            "text/plain": [
              "       columna  coeficiente_lr   coef_abs\n",
              "37        Goal      -79.378794  79.378794\n",
              "38     Pledged       11.239742  11.239742\n",
              "39     Backers        9.533557   9.533557\n",
              "25     Germany        0.659382   0.659382\n",
              "14       Dance        0.499458   0.499458\n",
              "3   Technology        0.479772   0.479772\n",
              "13        Food       -0.361006   0.361006\n",
              "8        Games       -0.303295   0.303295\n",
              "10     Theater        0.235534   0.235534\n",
              "4   Journalism       -0.232214   0.232214"
            ]
          },
          "execution_count": 77,
          "metadata": {},
          "output_type": "execute_result"
        }
      ],
      "source": [
        "lista_x = ['Fashion', 'Film & Video', 'Art', 'Technology', 'Journalism', 'Publishing',\n",
        "        'Music', 'Photography', 'Games', 'Design', 'Theater', 'Crafts', 'Comics', 'Food',\n",
        "        'Dance','United States', 'United Kingdom', 'Canada', 'Australia', 'New Zealand',\n",
        "        'Netherlands ', 'Sweden', 'Denmark', 'Norway', 'Ireland', 'Germany', 'France',\n",
        "        'Spain', 'Belgium', 'Italy', 'Switzerland', 'Austria', 'Luxembourg',\n",
        "        'Singapore', 'Hong Kong', 'Mexico', 'Japan','Goal','Pledged','Backers']\n",
        "\n",
        "\n",
        "df_lrcoef = pd.DataFrame(zip(lista_x,lr_model.coef_[0],np.abs(lr_model.coef_[0])),\n",
        "             columns=['columna','coeficiente_lr','coef_abs']).sort_values('coef_abs',ascending=False)\n",
        "\n",
        "df_lrcoef.head(10)"
      ]
    },
    {
      "cell_type": "code",
      "execution_count": null,
      "metadata": {
        "colab": {
          "background_save": true
        },
        "id": "RnleiGR4QzUr"
      },
      "outputs": [],
      "source": [
        "lista_categ = list(X['Category'].unique())\n",
        "lista_country = list(X['Country'].unique())"
      ]
    },
    {
      "cell_type": "code",
      "execution_count": null,
      "metadata": {
        "colab": {
          "background_save": true
        },
        "id": "ohRjYCqOQ0S-",
        "outputId": "13c86735-2287-4875-9e96-938ff02bdc2a"
      },
      "outputs": [
        {
          "data": {
            "text/plain": [
              "<BarContainer object of 15 artists>"
            ]
          },
          "execution_count": 79,
          "metadata": {},
          "output_type": "execute_result"
        },
        {
          "data": {
            "image/png": "[encoded data removed]",
            "text/plain": [
              "<Figure size 2000x500 with 1 Axes>"
            ]
          },
          "metadata": {},
          "output_type": "display_data"
        }
      ],
      "source": [
        "fig,ax = plt.subplots(1,figsize=(20,5))\n",
        "plt.bar(data = df_lrcoef[df_lrcoef['columna'].isin(lista_categ)],\n",
        "        x='columna',\n",
        "        height = 'coeficiente_lr')"
      ]
    },
    {
      "cell_type": "markdown",
      "metadata": {
        "id": "q5kRZVLHQ620"
      },
      "source": [
        "Teniendo en cuenta solo aquellas variable que pertenecen a la columna \"Category\" al comienzo tenemos lo siguiente, donde las categorias de Baile, Tecnología, Teatro, Moda, Peliculas y videos y música, son aquellos que tienen un peso positivo dentro del modelo, mientras que las categorías de comida, juegos, periodismo, publicidad, diseño, fotografía, arte y comics son aquellas con un peso negativo. Si se interpreta estos pesos como un determinante de exito, se puede discriminar por categorias cuales tienen mayor probabilidad de tener exito que otros."
      ]
    },
    {
      "cell_type": "code",
      "execution_count": null,
      "metadata": {
        "colab": {
          "background_save": true
        },
        "id": "G7WGSDZYQ-or",
        "outputId": "175391f4-47bf-4d2f-887f-7708c163d50d"
      },
      "outputs": [
        {
          "data": {
            "text/plain": [
              "<BarContainer object of 22 artists>"
            ]
          },
          "execution_count": 80,
          "metadata": {},
          "output_type": "execute_result"
        },
        {
          "data": {
            "image/png": "[encoded data removed]",
            "text/plain": [
              "<Figure size 3000x500 with 1 Axes>"
            ]
          },
          "metadata": {},
          "output_type": "display_data"
        }
      ],
      "source": [
        "fig,ax = plt.subplots(1,figsize=(30,5))\n",
        "plt.bar(data = df_lrcoef[df_lrcoef['columna'].isin(lista_country)],\n",
        "        x='columna',\n",
        "        height = 'coeficiente_lr')"
      ]
    },
    {
      "cell_type": "markdown",
      "metadata": {
        "id": "fCr6tCZJRDbk"
      },
      "source": [
        "Realizando el mismo ejercicio pero con los paises, se tiene que los paises con coeficiente positivo son dinamarca, alemania, nueva zelanda, Mexico, Francia y Holanda. Mientras que los que tiene coeficientes negativos son Noruega, Reino unido, Belgica, Irlanda, Suecia, Suiza, EEUU, Hong Kong, Luxemburgo, Singapur, Autralia, España y Cánada."
      ]
    },
    {
      "cell_type": "markdown",
      "metadata": {
        "id": "WrrRt9bVRtfs"
      },
      "source": [
        "# **9. Reducción de dimensionalidad**\n",
        "---\n",
        "\n",
        "Algo que se puede intentar es reducir la dimensionalidad, ya que se está trabajando con más de 300k filas y 40 columnas, es probable que reducir la cantidad de dimensiones que tiene el modelo, se pueda mejorar el rendimiento de los modelos."
      ]
    },
    {
      "cell_type": "code",
      "execution_count": null,
      "metadata": {
        "colab": {
          "background_save": true
        },
        "id": "vhiw08L3R14V",
        "outputId": "bacf7977-8553-46d0-a626-a2c3eb7e4789"
      },
      "outputs": [
        {
          "data": {
            "text/html": [
              "<style>#sk-container-id-1 {color: black;background-color: white;}#sk-container-id-1 pre{padding: 0;}#sk-container-id-1 div.sk-toggleable {background-color: white;}#sk-container-id-1 label.sk-toggleable__label {cursor: pointer;display: block;width: 100%;margin-bottom: 0;padding: 0.3em;box-sizing: border-box;text-align: center;}#sk-container-id-1 label.sk-toggleable__label-arrow:before {content: \"▸\";float: left;margin-right: 0.25em;color: #696969;}#sk-container-id-1 label.sk-toggleable__label-arrow:hover:before {color: black;}#sk-container-id-1 div.sk-estimator:hover label.sk-toggleable__label-arrow:before {color: black;}#sk-container-id-1 div.sk-toggleable__content {max-height: 0;max-width: 0;overflow: hidden;text-align: left;background-color: #f0f8ff;}#sk-container-id-1 div.sk-toggleable__content pre {margin: 0.2em;color: black;border-radius: 0.25em;background-color: #f0f8ff;}#sk-container-id-1 input.sk-toggleable__control:checked~div.sk-toggleable__content {max-height: 200px;max-width: 100%;overflow: auto;}#sk-container-id-1 input.sk-toggleable__control:checked~label.sk-toggleable__label-arrow:before {content: \"▾\";}#sk-container-id-1 div.sk-estimator input.sk-toggleable__control:checked~label.sk-toggleable__label {background-color: #d4ebff;}#sk-container-id-1 div.sk-label input.sk-toggleable__control:checked~label.sk-toggleable__label {background-color: #d4ebff;}#sk-container-id-1 input.sk-hidden--visually {border: 0;clip: rect(1px 1px 1px 1px);clip: rect(1px, 1px, 1px, 1px);height: 1px;margin: -1px;overflow: hidden;padding: 0;position: absolute;width: 1px;}#sk-container-id-1 div.sk-estimator {font-family: monospace;background-color: #f0f8ff;border: 1px dotted black;border-radius: 0.25em;box-sizing: border-box;margin-bottom: 0.5em;}#sk-container-id-1 div.sk-estimator:hover {background-color: #d4ebff;}#sk-container-id-1 div.sk-parallel-item::after {content: \"\";width: 100%;border-bottom: 1px solid gray;flex-grow: 1;}#sk-container-id-1 div.sk-label:hover label.sk-toggleable__label {background-color: #d4ebff;}#sk-container-id-1 div.sk-serial::before {content: \"\";position: absolute;border-left: 1px solid gray;box-sizing: border-box;top: 0;bottom: 0;left: 50%;z-index: 0;}#sk-container-id-1 div.sk-serial {display: flex;flex-direction: column;align-items: center;background-color: white;padding-right: 0.2em;padding-left: 0.2em;position: relative;}#sk-container-id-1 div.sk-item {position: relative;z-index: 1;}#sk-container-id-1 div.sk-parallel {display: flex;align-items: stretch;justify-content: center;background-color: white;position: relative;}#sk-container-id-1 div.sk-item::before, #sk-container-id-1 div.sk-parallel-item::before {content: \"\";position: absolute;border-left: 1px solid gray;box-sizing: border-box;top: 0;bottom: 0;left: 50%;z-index: -1;}#sk-container-id-1 div.sk-parallel-item {display: flex;flex-direction: column;z-index: 1;position: relative;background-color: white;}#sk-container-id-1 div.sk-parallel-item:first-child::after {align-self: flex-end;width: 50%;}#sk-container-id-1 div.sk-parallel-item:last-child::after {align-self: flex-start;width: 50%;}#sk-container-id-1 div.sk-parallel-item:only-child::after {width: 0;}#sk-container-id-1 div.sk-dashed-wrapped {border: 1px dashed gray;margin: 0 0.4em 0.5em 0.4em;box-sizing: border-box;padding-bottom: 0.4em;background-color: white;}#sk-container-id-1 div.sk-label label {font-family: monospace;font-weight: bold;display: inline-block;line-height: 1.2em;}#sk-container-id-1 div.sk-label-container {text-align: center;}#sk-container-id-1 div.sk-container {/* jupyter's `normalize.less` sets `[hidden] { display: none; }` but bootstrap.min.css set `[hidden] { display: none !important; }` so we also need the `!important` here to be able to override the default hidden behavior on the sphinx rendered scikit-learn.org. See: https://github.com/scikit-learn/scikit-learn/issues/21755 */display: inline-block !important;position: relative;}#sk-container-id-1 div.sk-text-repr-fallback {display: none;}</style><div id=\"sk-container-id-1\" class=\"sk-top-container\"><div class=\"sk-text-repr-fallback\"><pre>PCA(n_components=1)</pre><b>In a Jupyter environment, please rerun this cell to show the HTML representation or trust the notebook. <br />On GitHub, the HTML representation is unable to render, please try loading this page with nbviewer.org.</b></div><div class=\"sk-container\" hidden><div class=\"sk-item\"><div class=\"sk-estimator sk-toggleable\"><input class=\"sk-toggleable__control sk-hidden--visually\" id=\"sk-estimator-id-1\" type=\"checkbox\" checked><label for=\"sk-estimator-id-1\" class=\"sk-toggleable__label sk-toggleable__label-arrow\">PCA</label><div class=\"sk-toggleable__content\"><pre>PCA(n_components=1)</pre></div></div></div></div></div>"
            ],
            "text/plain": [
              "PCA(n_components=1)"
            ]
          },
          "execution_count": 81,
          "metadata": {},
          "output_type": "execute_result"
        }
      ],
      "source": [
        "# Análisis de componentes principales (PCA)\n",
        "from sklearn.decomposition import PCA\n",
        "\n",
        "pca = PCA(n_components=1) \n",
        "pca.fit(X_preprocessed.toarray())"
      ]
    },
    {
      "cell_type": "code",
      "execution_count": null,
      "metadata": {
        "colab": {
          "background_save": true
        },
        "id": "SX2MfMLbR8qH",
        "outputId": "afcc9d12-5a31-4cc5-8be0-f1609b052fe0"
      },
      "outputs": [
        {
          "name": "stdout",
          "output_type": "stream",
          "text": [
            "(334260, 40) (334260, 1)\n"
          ]
        }
      ],
      "source": [
        "Xt = pca.transform(X_preprocessed.toarray())\n",
        "\n",
        "print(X_preprocessed.shape, Xt.shape) "
      ]
    },
    {
      "cell_type": "code",
      "execution_count": null,
      "metadata": {
        "colab": {
          "background_save": true
        },
        "id": "jG5KuxWBSAUZ",
        "outputId": "d783d4a9-fd4d-42ef-ee13-72d243d489ca"
      },
      "outputs": [
        {
          "data": {
            "text/plain": [
              "Text(0.5, 1.0, 'Visualización 2D mediante reducción de dimensionalidad PCA')"
            ]
          },
          "execution_count": 83,
          "metadata": {},
          "output_type": "execute_result"
        },
        {
          "data": {
            "image/png": "[encoded data removed]",
            "text/plain": [
              "<Figure size 640x480 with 1 Axes>"
            ]
          },
          "metadata": {},
          "output_type": "display_data"
        }
      ],
      "source": [
        "plt.scatter(Xt,y_preprocessed)\n",
        "plt.xlabel('Componente principal')\n",
        "plt.ylabel('Target')\n",
        "plt.title('Visualización 2D mediante reducción de dimensionalidad PCA')"
      ]
    },
    {
      "cell_type": "markdown",
      "metadata": {
        "id": "XPm2pJWISGxO"
      },
      "source": [
        "Reduciendo el modelo a tan solo una dimensión, se puede notar que no hay forma de separar identificar (en 1D, que es la componente principal), la diferencia entre las etiquetas con 0 y las que tienen 1. Por lo que es necesario encontrar el número optimo de dimensiones a las que se puede reducir el modelo. Para ello, se utiliza la siguiente función que gráfica la varianza en función de la cantidad de dimensiones."
      ]
    },
    {
      "cell_type": "code",
      "execution_count": null,
      "metadata": {
        "colab": {
          "background_save": true
        },
        "id": "10cS4R3nSQef"
      },
      "outputs": [],
      "source": [
        "def cumulative_explained_variance_plot(expl_variance):\n",
        "\n",
        "  cum_var_exp = np.cumsum(expl_variance)\n",
        "\n",
        "  plt.figure(dpi = 100, figsize = (8, 6))\n",
        "  plt.title('Curva acumulativa de la varianza explicada VS n° de componentes principales', \n",
        "            fontdict= dict(family ='serif', size = 16))\n",
        "  plt.xlabel('Número de componentes principales',\n",
        "             fontdict= dict(family ='serif', size = 14))\n",
        "  plt.ylabel('Varianza explicada acumulativa',\n",
        "             fontdict= dict(family ='serif', size = 14))  \n",
        "\n",
        "  nc = np.arange(1, expl_variance.shape[0] + 1)\n",
        "\n",
        "  plt.plot(nc, cum_var_exp, '--r')\n",
        "  plt.plot(nc, cum_var_exp, 'c*', ms = 5)   \n",
        "  plt.show()"
      ]
    },
    {
      "cell_type": "code",
      "execution_count": null,
      "metadata": {
        "colab": {
          "background_save": true
        },
        "id": "OxHPs7SySVx7",
        "outputId": "c4ee013d-9e4e-430b-ef7f-aa76f6117f78"
      },
      "outputs": [
        {
          "data": {
            "image/png": "[encoded data removed]",
            "text/plain": [
              "<Figure size 800x600 with 1 Axes>"
            ]
          },
          "metadata": {},
          "output_type": "display_data"
        }
      ],
      "source": [
        "pca = PCA(n_components=None)\n",
        "X_pca = pca.fit_transform(X_preprocessed.toarray())\n",
        "varianza_expl = pca.explained_variance_ratio_\n",
        "\n",
        "cum_var_exp = np.cumsum(varianza_expl)\n",
        "\n",
        "cumulative_explained_variance_plot(varianza_expl)"
      ]
    },
    {
      "cell_type": "markdown",
      "metadata": {
        "id": "20nG2UJQSd9E"
      },
      "source": [
        "De acuerdo a la curva acumulativa de varianza, que entre las 10 y 20 dimensiones se encuentra el valor optimo para una reducción dimensional del conjunto de datos."
      ]
    },
    {
      "cell_type": "code",
      "execution_count": null,
      "metadata": {
        "colab": {
          "background_save": true
        },
        "id": "6FwEm_mhSkGU",
        "outputId": "4be86cb0-b060-40b5-a5be-77a4dcd552b1"
      },
      "outputs": [
        {
          "name": "stdout",
          "output_type": "stream",
          "text": [
            "Accuracy con datos originales: 0.7080\n",
            "Accuracy con 10 componentes: 0.6825\n",
            "Accuracy con 15 componentes: 0.6871\n",
            "Accuracy con 20 componentes: 0.6902\n"
          ]
        }
      ],
      "source": [
        "# Selección de modelos y validación cruzada.\n",
        "from sklearn.model_selection import cross_val_score\n",
        "\n",
        "# Métodos de modelado - Clasificación con NaiveBayes Gaussiano.\n",
        "from sklearn.naive_bayes import GaussianNB\n",
        "\n",
        "pca = PCA(n_components=10) \n",
        "pca.fit(X_preprocessed.toarray())\n",
        "Xt_10 = pca.transform(X_preprocessed.toarray())\n",
        "\n",
        "pca = PCA(n_components=15) \n",
        "pca.fit(X_preprocessed.toarray())\n",
        "Xt_15 = pca.transform(X_preprocessed.toarray())\n",
        "\n",
        "pca = PCA(n_components=20) \n",
        "pca.fit(X_preprocessed.toarray())\n",
        "Xt_20 = pca.transform(X_preprocessed.toarray())\n",
        "\n",
        "print(f\"Accuracy con datos originales: {np.mean(cross_val_score(GaussianNB(), X_preprocessed.toarray(), y_preprocessed, cv=5)):.4f}\")\n",
        "print(f\"Accuracy con 10 componentes: {np.mean(cross_val_score(GaussianNB(), Xt_10, y_preprocessed, cv=5)):.4f}\")\n",
        "print(f\"Accuracy con 15 componentes: {np.mean(cross_val_score(GaussianNB(), Xt_15, y_preprocessed, cv=5)):.4f}\")\n",
        "print(f\"Accuracy con 20 componentes: {np.mean(cross_val_score(GaussianNB(), Xt_20, y_preprocessed, cv=5)):.4f}\")"
      ]
    },
    {
      "cell_type": "markdown",
      "metadata": {
        "id": "D_snT0CQSuXG"
      },
      "source": [
        "De acuerdo a los resultados, y usando el método de Naive-Bayes, se determina que la reducción de dimensionalidad para 10 componentes es solo 2% menos precisa que la precisión con la totalidad de los datos, por lo que usar entre 10 y 15 dimensiones para este modelo puede resultar suficiente y puede ayudar con el costo computacional del entrenamiento y estimación."
      ]
    },
    {
      "cell_type": "markdown",
      "metadata": {
        "id": "5-Guc-h4bch7"
      },
      "source": [
        "# **10. Conclusiones**\n",
        "---\n",
        "\n",
        "Algunas conclusiones que se derivan del trabajo realizado con el conjunto de datos y los métodos de apredinzaje de máquina supervisados y no supervisados que se aplicaron, fueron las siguientes:\n",
        "\n",
        "\n",
        "\n",
        "*   El método de redes neuronales, en comparación con el método de bosques aleatorios, clasifica de mejor manera el conjunto de datos correspondientes a la partición de prueba, además de arrojar mejores resultaos en cuanto a tiempo de cómputo.\n",
        "*   Sorpresivamente el escalamiento de variables, al menos en este caso particular, en este caso no mejora el desempeño del modelo de redes neuronales y por el contrario, afecta considerablemente el rendimiento del mismo al requerir de bastante tiempo de computo para ejecutar la tarea de entrenamiento y clasificación, comparada con el tiempo empleado por el mismo algoritmo con las variables numéricas sin escalar.\n",
        "* Los resultados de clasificación binaria obtenidos por los dos métodos de aprendizaje de máquina supervisados que se emplearon en este trabajo, son bastante buenos, afirmación que se puede corroborar con las métricas de desempeño obtenidas en cada caso. Aunque el dataset se encontrara desabalanceado, su desbalanceo no fue significativo y pudo ser trabajado con los métodos seleccionados sin afectar de ninguna manera las métricas de desempeño.\n",
        "\n",
        "* A diferencia de la confiabilidad que dan los métodos de aprendizaje supervisado, el método k-means (no supervisado) se queda corto en terminos de precisión en comparación con los métodos supervisados. La forma de agrupación por clusters no resulto apropiada en este caso particular.\n",
        "\n",
        "* El metodo de Support Vector Machine no pudo ser ejecutado incluso después de hacer una reducción de dimensionalidad mediante PCA, en el cual se redujo de 40 a 10 dimensiones. El costo computacional de este método resulto ser demasiado alto y es por ello que no se tiene en la selección del método más adecuado.\n",
        "\n",
        "* La regresión logistica, aunque es un método de regresión y es extremadamente sencillo en comparación de los demás métodos, resulto tener una precisión considerable en la evaluación de los modelos. Aunque no es el método con los mejores resultados en metricas, resulta ser una aproximación interesante que se puede tener en cuenta en caso de querer ahorrar en costo computacional."
      ]
    }
  ],
  "metadata": {
    "colab": {
      "provenance": []
    },
    "kernelspec": {
      "display_name": "Python 3",
      "name": "python3"
    }
  },
  "nbformat": 4,
  "nbformat_minor": 0
}